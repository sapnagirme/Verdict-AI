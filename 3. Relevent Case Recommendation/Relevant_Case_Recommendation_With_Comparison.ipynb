{
 "cells": [
  {
   "cell_type": "markdown",
   "metadata": {
    "id": "9tzSLFUL4lBx"
   },
   "source": [
    "## Loading the dataset through kaggle API"
   ]
  },
  {
   "cell_type": "code",
   "execution_count": null,
   "metadata": {
    "id": "CYsTs3B8IXkQ"
   },
   "outputs": [],
   "source": [
    "!mkdir -p ~/.kaggle\n",
    "!mv kaggle.json ~/.kaggle/\n",
    "!chmod 600 ~/.kaggle/kaggle.json"
   ]
  },
  {
   "cell_type": "code",
   "execution_count": null,
   "metadata": {
    "colab": {
     "base_uri": "https://localhost:8080/"
    },
    "executionInfo": {
     "elapsed": 53508,
     "status": "ok",
     "timestamp": 1749097930954,
     "user": {
      "displayName": "JomyMary Mathew",
      "userId": "01202227901626941766"
     },
     "user_tz": -330
    },
    "id": "VY9np8lFIin_",
    "outputId": "01c4e142-ce83-42f0-ed20-4f1f8689c393"
   },
   "outputs": [
    {
     "name": "stdout",
     "output_type": "stream",
     "text": [
      "Dataset URL: https://www.kaggle.com/datasets/vangap/indian-supreme-court-judgments\n",
      "License(s): CC-BY-NC-SA-4.0\n",
      "Downloading indian-supreme-court-judgments.zip to /content\n",
      "100% 4.75G/4.77G [00:23<00:00, 264MB/s]\n",
      "100% 4.77G/4.77G [00:23<00:00, 220MB/s]\n"
     ]
    }
   ],
   "source": [
    "!kaggle datasets download -d vangap/indian-supreme-court-judgments"
   ]
  },
  {
   "cell_type": "code",
   "execution_count": null,
   "metadata": {
    "colab": {
     "base_uri": "https://localhost:8080/"
    },
    "executionInfo": {
     "elapsed": 83790,
     "status": "ok",
     "timestamp": 1749098015004,
     "user": {
      "displayName": "JomyMary Mathew",
      "userId": "01202227901626941766"
     },
     "user_tz": -330
    },
    "id": "oT2ZZglbI2Et",
    "outputId": "6a0fc500-1662-4175-c9da-4fea1dc15ddf"
   },
   "outputs": [],
   "source": [
    "!unzip indian-supreme-court-judgments.zip"
   ]
  },
  {
   "cell_type": "markdown",
   "metadata": {
    "id": "GrIPxi3f4r2W"
   },
   "source": [
    "## Contains 48K PDFS"
   ]
  },
  {
   "cell_type": "code",
   "execution_count": null,
   "metadata": {
    "colab": {
     "base_uri": "https://localhost:8080/"
    },
    "executionInfo": {
     "elapsed": 29,
     "status": "ok",
     "timestamp": 1749098021822,
     "user": {
      "displayName": "JomyMary Mathew",
      "userId": "01202227901626941766"
     },
     "user_tz": -330
    },
    "id": "2-VqE0DYIoDS",
    "outputId": "4d8435d3-19c5-4277-a25c-5a12dfd045f4"
   },
   "outputs": [
    {
     "name": "stdout",
     "output_type": "stream",
     "text": [
      "Number of PDFs in the folder: 48294\n"
     ]
    }
   ],
   "source": [
    "import os\n",
    "\n",
    "folder_path = \"/content/pdfs\"  # Replace with your folder path\n",
    "num_pdfs = len([f for f in os.listdir(folder_path) if f.endswith(\".pdf\")])\n",
    "\n",
    "print(f\"Number of PDFs in the folder: {num_pdfs}\")"
   ]
  },
  {
   "cell_type": "markdown",
   "metadata": {
    "id": "x9l0IIZ644R3"
   },
   "source": [
    "## Install PyMuPDF (fitz) – an alternative high-performance library for reading and extracting text, images, and metadata from PDFs"
   ]
  },
  {
   "cell_type": "code",
   "execution_count": null,
   "metadata": {
    "colab": {
     "base_uri": "https://localhost:8080/"
    },
    "executionInfo": {
     "elapsed": 8455,
     "status": "ok",
     "timestamp": 1749098032474,
     "user": {
      "displayName": "JomyMary Mathew",
      "userId": "01202227901626941766"
     },
     "user_tz": -330
    },
    "id": "s_Lo-AP_IprM",
    "outputId": "c2c99c4b-e16b-4513-fd88-514a16bf5102"
   },
   "outputs": [
    {
     "name": "stdout",
     "output_type": "stream",
     "text": [
      "Collecting pymupdf\n",
      "  Downloading pymupdf-1.26.0-cp39-abi3-manylinux2014_x86_64.manylinux_2_17_x86_64.whl.metadata (3.4 kB)\n",
      "Downloading pymupdf-1.26.0-cp39-abi3-manylinux2014_x86_64.manylinux_2_17_x86_64.whl (24.1 MB)\n",
      "\u001b[2K   \u001b[90m━━━━━━━━━━━━━━━━━━━━━━━━━━━━━━━━━━━━━━━━\u001b[0m \u001b[32m24.1/24.1 MB\u001b[0m \u001b[31m17.4 MB/s\u001b[0m eta \u001b[36m0:00:00\u001b[0m\n",
      "\u001b[?25hInstalling collected packages: pymupdf\n",
      "Successfully installed pymupdf-1.26.0\n"
     ]
    }
   ],
   "source": [
    "!pip install pymupdf"
   ]
  },
  {
   "cell_type": "markdown",
   "metadata": {
    "id": "wNUNONSD4-fs"
   },
   "source": [
    "## Extract Data From Pdfs"
   ]
  },
  {
   "cell_type": "code",
   "execution_count": null,
   "metadata": {
    "id": "odX7I2CTjPVc"
   },
   "outputs": [],
   "source": [
    "import os\n",
    "import fitz  # PyMuPDF\n",
    "import json\n",
    "import re\n",
    "\n",
    "# Folder containing all case PDFs\n",
    "PDF_FOLDER = \"/content/dataset/pdfs\"  # Change this to your actual folder\n",
    "OUTPUT_JSON = \"CASE_DATA_NEW.json\"\n",
    "\n",
    "def extract_text_from_pdf(pdf_path):\n",
    "    \"\"\"Extract text from a single PDF.\"\"\"\n",
    "    # Check if the file is empty before opening it\n",
    "    if os.path.getsize(pdf_path) == 0:\n",
    "        print(f\"Warning: Skipping empty PDF: {pdf_path}\")\n",
    "        return \"\"  # Return an empty string for empty PDFs\n",
    "\n",
    "    doc = fitz.open(pdf_path)\n",
    "    text = \"\\n\".join([page.get_text(\"text\") for page in doc])\n",
    "    return text\n",
    "\n",
    "def extract_judges(text):\n",
    "    bench_blocks = re.findall(r\"BENCH:\\s*((?:.|\\n)*?)(?=\\n\\S|$)\", text)  # Capture everything after BENCH until next section\n",
    "    judges_list = []\n",
    "    for block in bench_blocks:\n",
    "        lines = block.strip().splitlines()\n",
    "        for line in lines:\n",
    "            line = line.strip()\n",
    "            if line:\n",
    "                judges_list.append(line)\n",
    "    return \", \".join(judges_list) if judges_list else \"Unknown\"\n",
    "\n",
    "\n",
    "def extract_case_details(text):\n",
    "    \"\"\"Extracts structured case details using regex based on the new structure.\"\"\"\n",
    "    case_data = {}\n",
    "\n",
    "    # Extract Case Title from PETITIONER and RESPONDENT\n",
    "    petitioner = re.search(r\"PETITIONER:\\s*(.+)\", text, re.IGNORECASE)\n",
    "    respondent = re.search(r\"RESPONDENT:\\s*(.+)\", text, re.IGNORECASE)\n",
    "    case_data[\"case_title\"] = f\"{petitioner.group(1).strip()} vs. {respondent.group(1).strip()}\" if petitioner and respondent else \"Unknown\"\n",
    "\n",
    "    # Extract Date of Judgment in the format: DATE OF JUDGMENT14/11/1995\n",
    "    date_match = re.search(r\"DATE OF JUDGMENT[:\\s]*([0-9]{2}/[0-9]{2}/[0-9]{4})\", text)\n",
    "    case_data[\"date_of_judgment\"] = date_match.group(1) if date_match else \"Unknown\"\n",
    "\n",
    "\n",
    "    # Extract Judges from BENCH: Section\n",
    "    case_data[\"judges\"] = extract_judges(text)\n",
    "\n",
    "\n",
    "    # Extract Legal Sections (Keeping this unchanged)\n",
    "    case_data[\"legal_sections\"] = re.findall(r\"(Section\\s\\d+|IPC\\s\\d+)\", text)\n",
    "    case_data[\"legal_sections\"] = list(set(case_data[\"legal_sections\"])) if case_data[\"legal_sections\"] else []\n",
    "\n",
    "    # Extract Case Summary (Taking a portion of the text)\n",
    "    case_data[\"case_summary\"] = \" \".join(text.split(\"\\n\")[10:50])\n",
    "\n",
    "\n",
    "    return case_data"
   ]
  },
  {
   "cell_type": "code",
   "execution_count": null,
   "metadata": {
    "id": "Ll0rviwNjU72"
   },
   "outputs": [],
   "source": [
    "def process_all_pdfs():\n",
    "    \"\"\"Processes all PDFs in a folder and extracts case details.\"\"\"\n",
    "    case_laws = []\n",
    "\n",
    "    for filename in os.listdir(PDF_FOLDER):\n",
    "        if filename.endswith(\".pdf\"):\n",
    "            pdf_path = os.path.join(PDF_FOLDER, filename)\n",
    "            print(f\"Processing: {filename}\")\n",
    "\n",
    "            text = extract_text_from_pdf(pdf_path)\n",
    "            # Skip processing if the PDF is empty\n",
    "            if not text:\n",
    "                continue\n",
    "\n",
    "            case_details = extract_case_details(text)\n",
    "            case_details[\"file_name\"] = filename\n",
    "\n",
    "            case_laws.append(case_details)\n",
    "\n",
    "    # Save extracted data to JSON\n",
    "    with open(OUTPUT_JSON, \"w\", encoding=\"utf-8\") as f:\n",
    "        json.dump(case_laws, f, indent=4)\n",
    "\n",
    "    print(f\"✅ Extraction complete! Data saved in {OUTPUT_JSON}\")\n",
    "\n",
    "if __name__ == \"__main__\":\n",
    "    process_all_pdfs()"
   ]
  },
  {
   "cell_type": "code",
   "execution_count": null,
   "metadata": {
    "colab": {
     "base_uri": "https://localhost:8080/"
    },
    "executionInfo": {
     "elapsed": 92959,
     "status": "ok",
     "timestamp": 1749098126175,
     "user": {
      "displayName": "JomyMary Mathew",
      "userId": "01202227901626941766"
     },
     "user_tz": -330
    },
    "id": "kmxl9TMr5Skm",
    "outputId": "83c071ca-270d-49d6-c3b9-b408265b0290"
   },
   "outputs": [
    {
     "name": "stdout",
     "output_type": "stream",
     "text": [
      "\u001b[2K   \u001b[90m━━━━━━━━━━━━━━━━━━━━━━━━━━━━━━━━━━━━━━━━\u001b[0m \u001b[32m31.3/31.3 MB\u001b[0m \u001b[31m38.2 MB/s\u001b[0m eta \u001b[36m0:00:00\u001b[0m\n",
      "\u001b[?25h"
     ]
    }
   ],
   "source": [
    "# Install dependencies\n",
    "!pip install gradio faiss-cpu -q\n",
    "\n",
    "import os\n",
    "import pickle\n",
    "import json\n",
    "import numpy as np\n",
    "import pandas as pd\n",
    "import gradio as gr\n",
    "from tqdm import tqdm\n",
    "from urllib.parse import quote\n",
    "from sentence_transformers import SentenceTransformer\n",
    "from transformers import pipeline\n",
    "import faiss"
   ]
  },
  {
   "cell_type": "code",
   "execution_count": null,
   "metadata": {
    "colab": {
     "base_uri": "https://localhost:8080/",
     "height": 703,
     "referenced_widgets": [
      "3ea05907a1fa40f39b61e97ac682ed58",
      "6a9fd97caf754d20b453c14499748103",
      "70ae0ffae77440819b32fc65bc630779",
      "c0bfb514efe145edaa505fdc77dca14f",
      "c4f570b4cdd1416fb5cd38871cad8ea0",
      "492ba05b2d11444ba113d9bbe1ce9e58",
      "08bc7adc2e874c29a6d0a26bb418b8b8",
      "11847f69634f4de3a92e502d81103b7e",
      "3f9621ddba974df597c04c1b13bcbe38",
      "4a2b2b9899144cb88297d290635d2651",
      "5631dc6cfcb946a880eb2ee10d2aaa39",
      "dc7771a4020c4a1880eb2a378c89bb0a",
      "0a14d204de4f4ad1be9de31ea884a885",
      "50487e59554f4a068fcb91087e8dbe4a",
      "ec1f041e55eb44a88a0b67bc37297929",
      "58e9dbd007b94466b5853f50389a9d58",
      "da0d1035632049568b1b39ed349d4c4d",
      "a74277811e2d45be9bb9433e46bf0f9c",
      "38f90b3cf3ec4560966b4db5b8cf6c67",
      "c1476d68aae445cb953f5b68a40dc7bb",
      "5514860caad346998bae34a9d0b19e98",
      "e09244b92bab49798280008185d728f5",
      "8b903273a5584dcdbdcf0cf622a86a6a",
      "393f3af1edb742a39a370465cdeb7a11",
      "f2b65fffb17141b28e7255b10052cf65",
      "54798fbf4b154d2eb8a527a037df6b5a",
      "1331a3642f4141d6a5377a661246f78c",
      "79e519f5b8ac4108a0cd34c5c25676dd",
      "ee046c64504441a0b73f5062017b81bc",
      "f6ac0fefca864fc4b47b898cd8e18baf",
      "ecaac87c3612427caab547f8e0cd7380",
      "a83cc430542b42f3ab5260e8d12b0f44",
      "a7347a9931774549aed2856eed2b5767",
      "1b4675ab30b745cdbfe5a0ec350256fd",
      "239896d97bdc425982fa6901cd5b8618",
      "c28e262240ee4cee8862818b3625857a",
      "d163efa47fcf43c68c1474e104692131",
      "b7b0b60a03f34b92b60d91b7cc89b202",
      "400444d67a3346f692d4293ca0b73be9",
      "744feaea2bb047a898420734058d92c1",
      "0ae34939598d442e8b2cc436fdd70582",
      "fb499330727445a98c42caaf63bd54b5",
      "760674fd8e6a495e9904d4f5c04e7663",
      "289b7d49cfee4b7780abc9bcee7b2672",
      "83d454e2b3f34c96beb8d80f00343ca1",
      "842348cf447a47588c96cbdfe91e7168",
      "880a9731a9264fa580ce668b6264090c",
      "81c508e3d4da4bda8c3f59bbc2a94cb6",
      "2e3dd17329d34b5b90596189132febea",
      "f52339afd632434c979445ee52468ba7",
      "eda114a2077d49d6bf91e37cdf810e3b",
      "be5c6264887a46d0bd7d63afccc52709",
      "4be16e2e027d43fc9d6fe1622ae75662",
      "aaa4baf6fb7b403b855150da868d221f",
      "0e93fb0a8b38463aa4fe02d467d4412c",
      "f697652bf2e94eb1b6cf6535457787e9",
      "a75fa519c20e4afd9a5ae1acca994863",
      "eeda660ab3a94722af26fabb330a7d0e",
      "eb5b0af145f84e3d935b949eaf7559ba",
      "9b829f8a31e54836a52367a08a67cd01",
      "fb80e07528da44b8a492d854b748d7f6",
      "fc1d2590fb6844858b53a127d4b65620",
      "c16e76c0c5d848419e2014ca6c048d67",
      "f3c74b5eb043414788120671582fb619",
      "1e866e617aad429d933d5aaf1c4514da",
      "8a29c2a8ec044135b29e578b64c9d11b",
      "3b51183d41be41778c7e55b9e44b8b96",
      "c1a8b3cceebd4ad2add87c97fba51850",
      "a22c4500b6644933a30ebe578fd7179a",
      "4e7390920d734373a13475a593b5ddff",
      "c3a2f0f636b0400283627403f8752b58",
      "88fce6b4dfdd42478498ae859ead5b58",
      "e6fd574d690c4e6ba5f04d02942025d9",
      "dfdcae90f48446e7984c0d93bac0eae5",
      "40319874188c457a9e706fac9e7dca76",
      "31e64ec0f378448887d46259dfb92430",
      "54357cd8ae784e5b819471828c639b3f",
      "fc648d61880d488c9d52b6f5e374d542",
      "51dcc1977dc54482a563555fef5ade81",
      "e8f12139b0f94f6cab76dbf528972201",
      "ffbfbb9768f74221b0cf703dcc292b00",
      "5d39cae7301b4015994f7f971148e964",
      "7460656b0bd14c12975f6379f9b11643",
      "b006a32d244d4d2b950e2f92fd8172cc",
      "9110dadb65114ea9a49ae18f36ea3b35",
      "73388304cefa4a16ba59ce508674600a",
      "3a9f6bde4a8b46abb43a4a5f54d0868b",
      "cc09ef3665ab428681134cc438d3ef4e",
      "5da442de621441c8b7b37ab9fc911774",
      "95b5faa63f0f484981ea7464ab3a6728",
      "ee1062b3c5a4436fba58d6c0503532ed",
      "ba837af94277401ca7417827846241f6",
      "a98c34a7d8284899a99adf2203d46902",
      "93419c2172d948a09d4609ac11bc6454",
      "043191cd3f734eb98f6ada18b1b90cb1",
      "153d0eac697b41328d2d4b538db092f8",
      "37d243194edd46f98d7219c7a30b8781",
      "9508d6333c4d4d8e8d49edd48fff19d4",
      "cac37791f3314283a5493f8b5ee4c771",
      "8a872842bdc941d2957ca5a93791c214",
      "82d1a8798fb94f528f3c147538b1a47d",
      "63fdfd2a595f4e379c8525761fa691d9",
      "7395d1dba7c941ed893d0f7fea1c1803",
      "5496f17b8567404a8823e063d0f0a439",
      "8306b07e9ec9415daf638819fa467eec",
      "1d370ace088c468f98388c43a1ac1386",
      "27b8697aefdd40979a1284eefb819dc9",
      "3ff19d7902614acc83d1cf209ca33b81",
      "ff674f2f380d450b8a9de110b6463998",
      "4f57514bb29849a28555d5cca314e555",
      "3b59b8425c244b90bf36d78ec57ed89c",
      "c989b51826724d25a9fefbefbc43a8b8",
      "1389f2bebd7a475c9d704099a5312902",
      "042fc8d1a97a4921b6c6f9c6e5e2713e",
      "03427da0550145c5b515d95a5ad6303c",
      "fce2539331fd4a5cb0ae8aeafd11614f",
      "620dbf080dd5419ba535ea3e9da8ac33",
      "c820487082ab45a796eacb6b673ecbe8",
      "d43b57c2697b40e48b8f9b667e6b76d3",
      "0cfddafd9b1f424cbcf1b1e63d9e637f",
      "eb97a1d9fa3e429f996a96da48d7d628",
      "d169ce7c8fe84bbc833473a53ab60a95",
      "193ca0f2d8e74c848ea3246e0058250a",
      "03595e1e02ee4d11b0fca60618203e0f",
      "0f94f42628574825927e763b286bc42c",
      "02ff46b02eb7413f8cb5ffde6f7479f0",
      "837f3a7a349742bd9c824585d80a4a2b",
      "c5ebf92c9e0c492daba009402f1af89e",
      "fc28a10164f84a03b6f6546c5fa292c1",
      "547f2b33879b4a7db7c91f12ffeab0c3",
      "77900c79cd4a4d80bb28b2a5826bbbb0",
      "3e198fed3f4340c390e4376f0ff66771",
      "9569d408ef6a4b47aa1aa801486e263f",
      "5a3fda9abf264d5689e2f14c0d6c1770",
      "833dccb28a844c069ba2a4f8bd419215",
      "376c31f6b6ba4556b354d65a091dac02",
      "8721d3eec7454e56bc78c779071b9493",
      "45885226827741be9a8c9c8b4871698a",
      "4cff30d5814a4a0cae705d6c19abee56",
      "ec0205d82748427caf568136613a3d25",
      "7d772eada11043ceba9e724bcf892db0",
      "b4ba64e333a74c8980b979b886182d75",
      "db596caa74e040bd8f12c6417ac43a12",
      "a3faec005ca445c18e5d4e2f5957d0d6",
      "305717f5bf5d4f46bf5071eb4d066d48",
      "a52df3781cda417184accd73788eef50",
      "186a5fc440754c04bb95b0158f4e5b26",
      "fc1993163b4f4975aab32ec202ffcbe7",
      "467a482ddfe34d1893c496d58255ade0",
      "e669f232b1c441638f0a5c1fdd055dee",
      "91420a5b935d447ea6cd6c2df7e5edd7",
      "420ba4156a4e41cdbf667d0c778c5260",
      "bbbed84b727144b2b3971ea8edfb7031",
      "1285383d7f174027a5e859e846d6d16e",
      "682dd2e79feb45fd90b189a8d50c7409",
      "de006f2ddd3a445390f69280c5b5f448",
      "ddb93b385373408880f8509d513e77bc",
      "fcd96777613e47ea9248d6facac9653f",
      "e571b96245ff4f0282957d84c53f10ff",
      "251a4bc438a94d419c590eeb29b239cf",
      "50b10ac519614d3cab85be4bbd760e85",
      "00cbd31a18814c5fae59b1f6930e3f0b",
      "443129f77fd64249b05d81e4710a8c2d",
      "786b380368ca4a3987f9e7c2c0a9519d",
      "3aaeda0c96154178bdb52ce98459f9c2",
      "b4f541c2f90b41d1a7d70fd30d6a40e3",
      "96a11994fac1489e8dcb9129cb0bbe0e",
      "4f586ad911b64a408eb1fd778396c945",
      "e0d93484f9f04263ab366e60cf769cba",
      "1aceaf1e363449fa90daf4668cf3ffce",
      "ea4fece589d74f35a6fcfe240d06db5a",
      "98a674a45af241d1a496fc767af2faec",
      "2b95039e66e74bbd89ab19e1b576758c",
      "644722bd989b4c09a4ee8abde189bf78",
      "228a686a6cd54c0dbd695c1b893ba82d",
      "be64ccfbdf7d41228cf45eaba1a23d7c",
      "0cd92e7c9093474f9830d40bf1af9a1d",
      "aa6ab62c3c1b4b52b0b876b4d40377cf",
      "88ba6a81138f4ae4895f06751a6cfa92",
      "65d3ed49e3f94ae388211d20edbd9b47",
      "f1625bda068e45b2975e52a312a65535",
      "6f45edfa40d14b28a244cfcd495a06ff",
      "75b75aa9587942c1bd472edbb3237a7c",
      "769c424ca27c45acb90c9e01aa505446",
      "7c8e312ba39644a68d28425f924d5558",
      "d3761c9ae2034890a38063140c11d159",
      "293738f20c1a405c84d757f7eea59309"
     ]
    },
    "executionInfo": {
     "elapsed": 50956,
     "status": "ok",
     "timestamp": 1749098177052,
     "user": {
      "displayName": "JomyMary Mathew",
      "userId": "01202227901626941766"
     },
     "user_tz": -330
    },
    "id": "jeb_qnec5VOU",
    "outputId": "d40bf716-a745-4ae3-fa60-9404811eac83"
   },
   "outputs": [
    {
     "name": "stderr",
     "output_type": "stream",
     "text": [
      "/usr/local/lib/python3.11/dist-packages/huggingface_hub/utils/_auth.py:94: UserWarning: \n",
      "The secret `HF_TOKEN` does not exist in your Colab secrets.\n",
      "To authenticate with the Hugging Face Hub, create a token in your settings tab (https://huggingface.co/settings/tokens), set it as secret in your Google Colab and restart your session.\n",
      "You will be able to reuse this secret in all of your notebooks.\n",
      "Please note that authentication is recommended but still optional to access public models or datasets.\n",
      "  warnings.warn(\n"
     ]
    },
    {
     "data": {
      "application/vnd.jupyter.widget-view+json": {
       "model_id": "3ea05907a1fa40f39b61e97ac682ed58",
       "version_major": 2,
       "version_minor": 0
      },
      "text/plain": [
       "modules.json:   0%|          | 0.00/349 [00:00<?, ?B/s]"
      ]
     },
     "metadata": {},
     "output_type": "display_data"
    },
    {
     "data": {
      "application/vnd.jupyter.widget-view+json": {
       "model_id": "dc7771a4020c4a1880eb2a378c89bb0a",
       "version_major": 2,
       "version_minor": 0
      },
      "text/plain": [
       "config_sentence_transformers.json:   0%|          | 0.00/116 [00:00<?, ?B/s]"
      ]
     },
     "metadata": {},
     "output_type": "display_data"
    },
    {
     "data": {
      "application/vnd.jupyter.widget-view+json": {
       "model_id": "8b903273a5584dcdbdcf0cf622a86a6a",
       "version_major": 2,
       "version_minor": 0
      },
      "text/plain": [
       "README.md:   0%|          | 0.00/10.5k [00:00<?, ?B/s]"
      ]
     },
     "metadata": {},
     "output_type": "display_data"
    },
    {
     "data": {
      "application/vnd.jupyter.widget-view+json": {
       "model_id": "1b4675ab30b745cdbfe5a0ec350256fd",
       "version_major": 2,
       "version_minor": 0
      },
      "text/plain": [
       "sentence_bert_config.json:   0%|          | 0.00/53.0 [00:00<?, ?B/s]"
      ]
     },
     "metadata": {},
     "output_type": "display_data"
    },
    {
     "data": {
      "application/vnd.jupyter.widget-view+json": {
       "model_id": "83d454e2b3f34c96beb8d80f00343ca1",
       "version_major": 2,
       "version_minor": 0
      },
      "text/plain": [
       "config.json:   0%|          | 0.00/612 [00:00<?, ?B/s]"
      ]
     },
     "metadata": {},
     "output_type": "display_data"
    },
    {
     "data": {
      "application/vnd.jupyter.widget-view+json": {
       "model_id": "f697652bf2e94eb1b6cf6535457787e9",
       "version_major": 2,
       "version_minor": 0
      },
      "text/plain": [
       "model.safetensors:   0%|          | 0.00/90.9M [00:00<?, ?B/s]"
      ]
     },
     "metadata": {},
     "output_type": "display_data"
    },
    {
     "data": {
      "application/vnd.jupyter.widget-view+json": {
       "model_id": "3b51183d41be41778c7e55b9e44b8b96",
       "version_major": 2,
       "version_minor": 0
      },
      "text/plain": [
       "tokenizer_config.json:   0%|          | 0.00/350 [00:00<?, ?B/s]"
      ]
     },
     "metadata": {},
     "output_type": "display_data"
    },
    {
     "data": {
      "application/vnd.jupyter.widget-view+json": {
       "model_id": "fc648d61880d488c9d52b6f5e374d542",
       "version_major": 2,
       "version_minor": 0
      },
      "text/plain": [
       "vocab.txt:   0%|          | 0.00/232k [00:00<?, ?B/s]"
      ]
     },
     "metadata": {},
     "output_type": "display_data"
    },
    {
     "data": {
      "application/vnd.jupyter.widget-view+json": {
       "model_id": "5da442de621441c8b7b37ab9fc911774",
       "version_major": 2,
       "version_minor": 0
      },
      "text/plain": [
       "tokenizer.json:   0%|          | 0.00/466k [00:00<?, ?B/s]"
      ]
     },
     "metadata": {},
     "output_type": "display_data"
    },
    {
     "data": {
      "application/vnd.jupyter.widget-view+json": {
       "model_id": "8a872842bdc941d2957ca5a93791c214",
       "version_major": 2,
       "version_minor": 0
      },
      "text/plain": [
       "special_tokens_map.json:   0%|          | 0.00/112 [00:00<?, ?B/s]"
      ]
     },
     "metadata": {},
     "output_type": "display_data"
    },
    {
     "data": {
      "application/vnd.jupyter.widget-view+json": {
       "model_id": "3b59b8425c244b90bf36d78ec57ed89c",
       "version_major": 2,
       "version_minor": 0
      },
      "text/plain": [
       "config.json:   0%|          | 0.00/190 [00:00<?, ?B/s]"
      ]
     },
     "metadata": {},
     "output_type": "display_data"
    },
    {
     "data": {
      "application/vnd.jupyter.widget-view+json": {
       "model_id": "d169ce7c8fe84bbc833473a53ab60a95",
       "version_major": 2,
       "version_minor": 0
      },
      "text/plain": [
       "config.json:   0%|          | 0.00/1.80k [00:00<?, ?B/s]"
      ]
     },
     "metadata": {},
     "output_type": "display_data"
    },
    {
     "data": {
      "application/vnd.jupyter.widget-view+json": {
       "model_id": "9569d408ef6a4b47aa1aa801486e263f",
       "version_major": 2,
       "version_minor": 0
      },
      "text/plain": [
       "pytorch_model.bin:   0%|          | 0.00/1.22G [00:00<?, ?B/s]"
      ]
     },
     "metadata": {},
     "output_type": "display_data"
    },
    {
     "data": {
      "application/vnd.jupyter.widget-view+json": {
       "model_id": "a3faec005ca445c18e5d4e2f5957d0d6",
       "version_major": 2,
       "version_minor": 0
      },
      "text/plain": [
       "model.safetensors:   0%|          | 0.00/1.22G [00:00<?, ?B/s]"
      ]
     },
     "metadata": {},
     "output_type": "display_data"
    },
    {
     "data": {
      "application/vnd.jupyter.widget-view+json": {
       "model_id": "682dd2e79feb45fd90b189a8d50c7409",
       "version_major": 2,
       "version_minor": 0
      },
      "text/plain": [
       "tokenizer_config.json:   0%|          | 0.00/26.0 [00:00<?, ?B/s]"
      ]
     },
     "metadata": {},
     "output_type": "display_data"
    },
    {
     "data": {
      "application/vnd.jupyter.widget-view+json": {
       "model_id": "b4f541c2f90b41d1a7d70fd30d6a40e3",
       "version_major": 2,
       "version_minor": 0
      },
      "text/plain": [
       "vocab.json:   0%|          | 0.00/899k [00:00<?, ?B/s]"
      ]
     },
     "metadata": {},
     "output_type": "display_data"
    },
    {
     "data": {
      "application/vnd.jupyter.widget-view+json": {
       "model_id": "0cd92e7c9093474f9830d40bf1af9a1d",
       "version_major": 2,
       "version_minor": 0
      },
      "text/plain": [
       "merges.txt:   0%|          | 0.00/456k [00:00<?, ?B/s]"
      ]
     },
     "metadata": {},
     "output_type": "display_data"
    },
    {
     "name": "stderr",
     "output_type": "stream",
     "text": [
      "Device set to use cpu\n"
     ]
    }
   ],
   "source": [
    "# Load models once\n",
    "sentence_model = SentenceTransformer('all-MiniLM-L6-v2')\n",
    "summarizer = pipeline(\"summarization\", model=\"sshleifer/distilbart-cnn-12-6\", device=-1)\n",
    "\n",
    "# Case categories\n",
    "case_categories = {\n",
    "    \"Civil Cases\": [\"Land disputes\", \"Property disputes (ownership, possession, partition)\", \"Contract disputes\", \"Money recovery\", \"Family property division\"],\n",
    "    \"Criminal Cases\": [\"Theft\", \"Murder\", \"Rape\", \"Attempt to murder\", \"Kidnapping / Abduction\", \"Assault / Grievous hurt\", \"Cybercrime\", \"Domestic violence\", \"Narcotics / Drug offences\", \"Corruption / Bribery\"],\n",
    "    \"Family Law Cases\": [\"Divorce\", \"Child custody\", \"Alimony / Maintenance\", \"Domestic cruelty under 498A\"],\n",
    "    \"Constitutional Cases\": [\"Fundamental rights violations\", \"Writ petitions (Habeas Corpus, Mandamus, Certiorari, Prohibition, Quo Warranto)\", \"Constitutional interpretation\"],\n",
    "    \"Service / Employment Cases\": [\"Wrongful termination\", \"Promotions / Transfers\", \"Pension disputes\", \"Recruitment irregularities\"],\n",
    "    \"Tax / Revenue Cases\": [\"Income tax appeals\", \"GST-related cases\", \"Land revenue disputes\"],\n",
    "    \"Consumer Disputes\": [\"Deficiency in service\", \"Defective products\", \"Insurance disputes\", \"Banking / loan complaints\"],\n",
    "    \"Property & Tenancy Cases\": [\"Eviction\", \"Rent control\", \"Illegal possession\"],\n",
    "    \"Environmental Cases\": [\"Pollution control\", \"Forest / Wildlife protection\", \"Public interest litigations (PILs)\"],\n",
    "    \"Corporate & Commercial Cases\": [\"Company law violations\", \"Insolvency & Bankruptcy (IBC)\", \"Arbitration & commercial disputes\"]\n",
    "}"
   ]
  },
  {
   "cell_type": "code",
   "execution_count": null,
   "metadata": {
    "id": "RX8BxiPg5Yn1"
   },
   "outputs": [],
   "source": [
    "# Load JSON data\n",
    "def load_case_data(json_file):\n",
    "    with open(json_file, \"r\", encoding=\"utf-8\") as f:\n",
    "        data = json.load(f)\n",
    "        for record in data:\n",
    "            if isinstance(record.get(\"legal_sections\"), list):\n",
    "                record[\"legal_sections\"] = tuple(record[\"legal_sections\"])\n",
    "        return pd.DataFrame(data)\n",
    "\n",
    "# Encode summaries\n",
    "def encode_cases(df, vector_file=\"/content/vectors.pkl\"):\n",
    "    if os.path.exists(vector_file):\n",
    "        with open(vector_file, \"rb\") as f:\n",
    "            vectors = pickle.load(f)\n",
    "    else:\n",
    "        vectors_list = []\n",
    "        batch_size = 512\n",
    "        for i in tqdm(range(0, len(df), batch_size), desc=\"Encoding\"):\n",
    "            batch = df[\"case_summary\"].iloc[i:i+batch_size].tolist()\n",
    "            batch_vectors = sentence_model.encode(batch, convert_to_tensor=False)\n",
    "            vectors_list.extend(batch_vectors)\n",
    "        vectors = np.array(vectors_list)\n",
    "        with open(vector_file, \"wb\") as f:\n",
    "            pickle.dump(vectors, f)\n",
    "    return vectors\n",
    "\n",
    "# Create or load FAISS index\n",
    "def load_faiss_index(vectors, index_file=\"/content/faiss_index.index\"):\n",
    "    if os.path.exists(index_file):\n",
    "        index = faiss.read_index(index_file)\n",
    "    else:\n",
    "        index = faiss.IndexFlatL2(vectors.shape[1])\n",
    "        index.add(vectors)\n",
    "        faiss.write_index(index, index_file)\n",
    "    return index"
   ]
  },
  {
   "cell_type": "code",
   "execution_count": null,
   "metadata": {
    "id": "6360kQzS-WxI"
   },
   "outputs": [],
   "source": [
    "# Summarize function\n",
    "def summarize_text(text, max_length=150, min_length=50):\n",
    "    summary = summarizer(text, max_length=max_length, min_length=min_length, do_sample=False)\n",
    "    return summary[0]['summary_text']\n",
    "\n",
    "# Core retrieval function\n",
    "def search_cases(query, top_n, df, index, pdf_folder=\"/content/pdfs\"):\n",
    "    query_vector = sentence_model.encode([query])\n",
    "    distances, indices = index.search(query_vector, top_n)\n",
    "    results = df.iloc[indices[0]][[\"case_title\", \"date_of_judgment\", \"judges\", \"legal_sections\", \"case_summary\", \"file_name\"]]\n",
    "\n",
    "    display_md = f\"### ➡️ Showing {len(results)} results for **{query}**\\n\\n\"\n",
    "    pdf_files = []\n",
    "\n",
    "    for i, (_, row) in enumerate(results.iterrows()):\n",
    "        summarized = summarize_text(row[\"case_summary\"])\n",
    "        title = row['case_title']\n",
    "\n",
    "        pdf_filename = row.get(\"file_name\", None)\n",
    "        pdf_path = os.path.join(pdf_folder, pdf_filename) if pdf_filename else None\n",
    "\n",
    "        if pdf_path and os.path.exists(pdf_path):\n",
    "            pdf_files.append(pdf_path)\n",
    "            download_note = \"**PDF:** File ready for download below.\"\n",
    "        else:\n",
    "            download_note = \"_PDF not available_\"\n",
    "\n",
    "        display_md += f\"### Case {i+1}\\n\"\n",
    "        display_md += f\"**Title:** {title}\\n\\n\"\n",
    "        display_md += f\"**Date:** {row['date_of_judgment'][:10]}\\n\\n\"\n",
    "        display_md += f\"**Judges:** {row['judges']}\\n\\n\"\n",
    "        display_md += f\"**Sections:** {', '.join(row['legal_sections']) if row['legal_sections'] else 'None'}\\n\\n\"\n",
    "        display_md += f\"**Summary:** {summarized}\\n\\n\"\n",
    "        display_md += f\"{download_note}\\n\\n---\\n\"\n",
    "\n",
    "    return display_md, pdf_files\n",
    "\n",
    "# Load data\n",
    "json_file = \"/content/CASE_DATA_NEW.json\"  # Your uploaded JSON file\n",
    "df = load_case_data(json_file)\n",
    "vectors = encode_cases(df)\n",
    "index = load_faiss_index(vectors)\n",
    "\n",
    "# Gradio Interface Logic\n",
    "def gradio_interface(category, case_type, custom_input):\n",
    "    query = custom_input.strip() if custom_input else case_type\n",
    "    return search_cases(query, 5, df, index)\n",
    "def update_case_types(selected_category):\n",
    "    return gr.update(choices=case_categories[selected_category], value=case_categories[selected_category][0])\n",
    "\n",
    "def clear_all():\n",
    "    return \"\", category_list[0], case_categories[category_list[0]][0], \"🔍 **Relevant cases will appear here...**\", None\n",
    "# Gradio UI\n",
    "category_list = list(case_categories.keys())\n",
    "default_category = category_list[0]\n"
   ]
  },
  {
   "cell_type": "code",
   "execution_count": null,
   "metadata": {
    "colab": {
     "base_uri": "https://localhost:8080/",
     "height": 611
    },
    "executionInfo": {
     "elapsed": 3597,
     "status": "ok",
     "timestamp": 1749098197076,
     "user": {
      "displayName": "JomyMary Mathew",
      "userId": "01202227901626941766"
     },
     "user_tz": -330
    },
    "id": "4sWPGEC8En_Q",
    "outputId": "6b2e4e06-9a11-45af-c189-788fc3e5c5fb"
   },
   "outputs": [
    {
     "name": "stdout",
     "output_type": "stream",
     "text": [
      "Colab notebook detected. To show errors in colab notebook, set debug=True in launch()\n",
      "* Running on public URL: https://6f6fc4e68b7e322cd6.gradio.live\n",
      "\n",
      "This share link expires in 1 week. For free permanent hosting and GPU upgrades, run `gradio deploy` from the terminal in the working directory to deploy to Hugging Face Spaces (https://huggingface.co/spaces)\n"
     ]
    },
    {
     "data": {
      "text/html": [
       "<div><iframe src=\"https://6f6fc4e68b7e322cd6.gradio.live\" width=\"100%\" height=\"500\" allow=\"autoplay; camera; microphone; clipboard-read; clipboard-write;\" frameborder=\"0\" allowfullscreen></iframe></div>"
      ],
      "text/plain": [
       "<IPython.core.display.HTML object>"
      ]
     },
     "metadata": {},
     "output_type": "display_data"
    },
    {
     "data": {
      "text/plain": []
     },
     "execution_count": 10,
     "metadata": {},
     "output_type": "execute_result"
    }
   ],
   "source": [
    "with gr.Blocks(css=\"\"\"\n",
    "#side-panel {\n",
    "    background-color: #f0f0f0;\n",
    "    padding: 20px;\n",
    "    min-height: 100vh;\n",
    "    border-right: 1px solid #ccc;\n",
    "}\n",
    "#main-panel {\n",
    "    padding: 20px;\n",
    "}\n",
    "#case_output_scroll {\n",
    "    max-height: 600px;\n",
    "    overflow-y: auto;\n",
    "    border: 1px solid #ddd;\n",
    "    padding: 10px;\n",
    "    background-color: #fff;\n",
    "}\n",
    "#run-button, #clear-button {\n",
    "    background-color: #AFA939 !important;\n",
    "    color: white !important;\n",
    "    font-weight: bold;\n",
    "    padding: 8px 12px;\n",
    "    border: 1px solid #ccc !important;\n",
    "    width: 100%;\n",
    "    cursor: pointer;\n",
    "}\n",
    "#run-button:hover, #clear-button:hover {\n",
    "    background-color: #999932 !important;\n",
    "}\n",
    "\"\"\") as demo:\n",
    "\n",
    "    with gr.Row():\n",
    "        with gr.Column(scale=1, elem_id=\"side-panel\"):\n",
    "            gr.Markdown(\"## Legal Case Recommendation\")\n",
    "            gr.Markdown(\"\"\"\n",
    "            ⚠️ _Note: Processing may be slow. Please wait patiently as the system runs on standard CPU settings._\n",
    "\n",
    "            ### How to Use:\n",
    "            1. Select a case category and type\n",
    "            2. Or enter a custom case type\n",
    "            3. Click 🔍 **Search Cases**\n",
    "            4. View summaries + download PDFs if available\n",
    "            \"\"\")\n",
    "            category_input = gr.Dropdown(label=\"Case Category\", choices=category_list, value=default_category)\n",
    "            case_type_input = gr.Dropdown(label=\"Case Type\", choices=case_categories[default_category])\n",
    "            custom_input = gr.Textbox(label=\"Or enter custom case type\", placeholder=\"e.g., Cybercrime\")\n",
    "            with gr.Row():\n",
    "                run_btn = gr.Button(\"🔍 Search Cases\", elem_id=\"run-button\")\n",
    "                clear_btn = gr.Button(\"🔄 Clear\", elem_id=\"clear-button\")\n",
    "\n",
    "        with gr.Column(scale=3, elem_id=\"main-panel\"):\n",
    "            output_display = gr.Markdown(\n",
    "                value=\"🔍 **Relevant cases will appear here...**\", elem_id=\"case_output_scroll\"\n",
    "            )\n",
    "            file_outputs = gr.File(label=\"Download PDFs\", file_types=[\".pdf\"], interactive=False, file_count=\"multiple\")\n",
    "            gr.Markdown(\n",
    "                \"---\\n\"\n",
    "                \"**About This App** - \\n\"\n",
    "                \"This tool recommends relevant Indian Supreme Court cases using case law summaries and metadata.\\n\"\n",
    "                \"Data from the [Indian Supreme Court Judgments dataset on Kaggle](https://www.kaggle.com/datasets/vangap/indian-supreme-court-judgments), \"\n",
    "                \"licensed under [CC BY 4.0](https://creativecommons.org/licenses/by/4.0/).\\n\\n\"\n",
    "                \"⚖️ **Disclaimer**: This system is for informational and educational use only. It does not constitute legal advice.\"\n",
    "            )\n",
    "\n",
    "    category_input.change(fn=update_case_types, inputs=category_input, outputs=case_type_input)\n",
    "    run_btn.click(fn=gradio_interface, inputs=[category_input, case_type_input, custom_input], outputs=[output_display, file_outputs], concurrency_limit=1)\n",
    "    clear_btn.click(fn=clear_all, outputs=[custom_input, category_input, case_type_input, output_display, file_outputs])\n",
    "\n",
    "demo.launch(share=True)\n"
   ]
  },
  {
   "cell_type": "markdown",
   "metadata": {
    "id": "RdtiH1yCSWWs"
   },
   "source": [
    "### 🔗 IMPORTANT: Gradio Link for Website\n",
    "\n",
    "After running this notebook, Gradio will generate a **new public link** (e.g., `https://xyz123.gradio.live`).\n",
    "\n",
    "📌 Please follow these steps:\n",
    "\n",
    "1. **Copy the public Gradio link** shown in the output after `launch()` (usually something like `https://abc123.gradio.live`)\n",
    "2. **Open your `index.html` file** inside the `Verdict AI UI\\templates ` folder\n",
    "3. Replace the old link for this feature with the new one using the following format:\n",
    "\n",
    "```html\n",
    "<!-- Example -->\n",
    "<a href=\"https://new-chatbot-link.gradio.live\" target=\"_blank\">Open Relevant Case Recommendation</a>\n"
   ]
  },
  {
   "cell_type": "markdown",
   "metadata": {
    "id": "CWbjJ2dQkSG4"
   },
   "source": [
    "## Comparison of summarization models - facebook bart & distilbart"
   ]
  },
  {
   "cell_type": "code",
   "execution_count": null,
   "metadata": {
    "colab": {
     "base_uri": "https://localhost:8080/",
     "height": 714
    },
    "executionInfo": {
     "elapsed": 43241,
     "status": "ok",
     "timestamp": 1748333690041,
     "user": {
      "displayName": "JomyMary Mathew",
      "userId": "01202227901626941766"
     },
     "user_tz": -330
    },
    "id": "Rlg7JkQdkome",
    "outputId": "9e800a5e-c7e7-43bf-db6e-7791bf29ccbe"
   },
   "outputs": [
    {
     "name": "stderr",
     "output_type": "stream",
     "text": [
      "Device set to use cpu\n",
      "Device set to use cpu\n"
     ]
    },
    {
     "name": "stdout",
     "output_type": "stream",
     "text": [
      "Summary by facebook/bart-large-cnn:\n",
      " These appeals are directed against the order dated 15th may 2003 passed by the Division Bench of Madhya Pradesh High Court in Writ Petition No. 5634 of 1999. Shiv Nath Prasad, appellant challenged the order passed by State Administrative Tribunal challenging the promotion of petitioner/appellant before us and private respondents who belong to non-scheduled caste.\n",
      "Time taken: 27.102 seconds\n",
      "\n",
      "Summary by sshleifer/distilbart-cnn-12-6:\n",
      "  These appeals are directed against the order passed by the Division Bench of Madhya Pradesh High Court in Writ Petition No. 5634 of 1999 . Shiv Nath Prasad, appellant (herein) challenged the State Administrative Tribunal challenging the promotion of petitioner/appellant before us and private respondents who belong to non-SC .\n",
      "Time taken: 13.285 seconds\n",
      "\n"
     ]
    },
    {
     "data": {
      "image/png": "[encoded data removed]",
      "text/plain": [
       "<Figure size 800x500 with 1 Axes>"
      ]
     },
     "metadata": {},
     "output_type": "display_data"
    },
    {
     "name": "stdout",
     "output_type": "stream",
     "text": [
      "Quality comparison based on summary length and text (you can manually evaluate the summaries):\n",
      "Length of facebook/bart-large-cnn summary: 365 characters\n",
      "Length of sshleifer/distilbart-cnn-12-6 summary: 328 characters\n"
     ]
    }
   ],
   "source": [
    "import time\n",
    "from transformers import pipeline\n",
    "import matplotlib.pyplot as plt\n",
    "\n",
    "# Load both summarizers\n",
    "summarizer_bart = pipeline(\"summarization\", model=\"facebook/bart-large-cnn\")\n",
    "summarizer_distilbart = pipeline(\"summarization\", model=\"sshleifer/distilbart-cnn-12-6\")\n",
    "\n",
    "text = \"\"\"BENCH: A.K. MATHUR & MARKANDEY KATJU JUDGMENT: J U D G M E N T  A.K. MATHUR, J. 1. These appeals are directed against the order dated 15th may 2003 passed by the Division Bench of Madhya Pradesh High Court in Writ Petition No. 5634 of 1999, whereby Shiv Nath Prasad, appellant (herein) challenged the order passed by the State Administrative Tribunal challenging the promotion of petitioner/appellant before us and private respondents who belong to non-scheduled caste. The case of the appellant (herein) was that he was appointed as Assistant Engineer in the Public Works Department after selection through Madhya Pradesh Public Service Commission. Petitioner/Appellant (Scheduled Caste) alongwith other Schedule Caste and other private respondents (non-SC) were selected and appointed as Assistant Engineers on the basis of Civil Services Examination conducted by the Madhya Pradesh Public Service Commission. The names of scheduled caste candidates appeared at S.Nos. 23, 24 and 25 below the name of the respondent Saran Pal Jeet Singh Tulsi (herein). After their appointment, they joined the duties on the post of Assistant Engineer on different dates in the year 1972. The names of the petitioner/appellant and other scheduled caste candidates were shown in the select list prepared by the Public Service Commission in lower position and their seniority was also drawn on the post of Assistant Engineer in the order mentioned in the select list. In the gradation list, issued for the post of Assistant Engineer as on 1.4.1982, the names of the petitioner/appellant and other scheduled caste candidates duly selected appeared at S. Nos 187, 189 and 190, while the name of the respondent no. 1 (herein) and others appeared between S.Nos 168-186. Therefore, admittedly, the respondents (herein) were senior to the petitioner/appellant. Thereafter, the petitioner/appellant was promoted to the post of the Executive Engineer in July, 1980 against the reserved post of the Executive Engineer, whereas, other private respondents (non-scheduled caste candidates) were not considered for promotion on account of non-availability of post in general category. But, they were considered and appointed on the post of Executive Engineer in the year 1985, i.e. much after the promotions of the scheduled caste candidates including that of petitioner/appellant.\"\"\"\n",
    "\n",
    "# Measure speed for facebook/bart-large-cnn\n",
    "start_bart = time.time()\n",
    "summary_bart = summarizer_bart(text, max_length=150, min_length=50, do_sample=False)[0]['summary_text']\n",
    "end_bart = time.time()\n",
    "time_bart = end_bart - start_bart\n",
    "\n",
    "# Measure speed for sshleifer/distilbart-cnn-12-6\n",
    "start_distilbart = time.time()\n",
    "summary_distilbart = summarizer_distilbart(text, max_length=150, min_length=50, do_sample=False)[0]['summary_text']\n",
    "end_distilbart = time.time()\n",
    "time_distilbart = end_distilbart - start_distilbart\n",
    "\n",
    "print(\"Summary by facebook/bart-large-cnn:\\n\", summary_bart)\n",
    "print(f\"Time taken: {time_bart:.3f} seconds\\n\")\n",
    "\n",
    "print(\"Summary by sshleifer/distilbart-cnn-12-6:\\n\", summary_distilbart)\n",
    "print(f\"Time taken: {time_distilbart:.3f} seconds\\n\")\n",
    "\n",
    "# Plotting speed comparison\n",
    "models = ['facebook/bart-large-cnn', 'sshleifer/distilbart-cnn-12-6']\n",
    "times = [time_bart, time_distilbart]\n",
    "\n",
    "plt.figure(figsize=(8, 5))\n",
    "bars = plt.bar(models, times, color=['blue', 'orange'])\n",
    "plt.ylabel('Inference Time (seconds)')\n",
    "plt.title('Summarization Model Speed Comparison')\n",
    "\n",
    "# Annotate bars with time values\n",
    "for bar in bars:\n",
    "    yval = bar.get_height()\n",
    "    plt.text(bar.get_x() + bar.get_width()/2, yval + 0.01, f\"{yval:.3f}s\", ha='center', va='bottom')\n",
    "\n",
    "plt.show()\n",
    "\n",
    "# Optional quality comparison:\n",
    "print(\"Quality comparison based on summary length and text (you can manually evaluate the summaries):\")\n",
    "print(f\"Length of facebook/bart-large-cnn summary: {len(summary_bart)} characters\")\n",
    "print(f\"Length of sshleifer/distilbart-cnn-12-6 summary: {len(summary_distilbart)} characters\")\n"
   ]
  },
  {
   "cell_type": "code",
   "execution_count": null,
   "metadata": {
    "colab": {
     "base_uri": "https://localhost:8080/"
    },
    "executionInfo": {
     "elapsed": 10,
     "status": "ok",
     "timestamp": 1748333690059,
     "user": {
      "displayName": "JomyMary Mathew",
      "userId": "01202227901626941766"
     },
     "user_tz": -330
    },
    "id": "APrJqzWdlv53",
    "outputId": "c0e8a8e1-4662-467b-b323-4b975c757872"
   },
   "outputs": [
    {
     "name": "stdout",
     "output_type": "stream",
     "text": [
      "Original text length (words): 361\n",
      "facebook/bart-large-cnn summary length (words): 55 (15.24% of original)\n",
      "sshleifer/distilbart-cnn-12-6 summary length (words): 50 (13.85% of original)\n"
     ]
    }
   ],
   "source": [
    "orig_len = len(text.split())\n",
    "bart_len = len(summary_bart.split())\n",
    "distilbart_len = len(summary_distilbart.split())\n",
    "\n",
    "print(f\"Original text length (words): {orig_len}\")\n",
    "print(f\"facebook/bart-large-cnn summary length (words): {bart_len} ({bart_len/orig_len:.2%} of original)\")\n",
    "print(f\"sshleifer/distilbart-cnn-12-6 summary length (words): {distilbart_len} ({distilbart_len/orig_len:.2%} of original)\")\n"
   ]
  },
  {
   "cell_type": "code",
   "execution_count": null,
   "metadata": {
    "colab": {
     "base_uri": "https://localhost:8080/",
     "height": 458
    },
    "executionInfo": {
     "elapsed": 16761,
     "status": "ok",
     "timestamp": 1748330055777,
     "user": {
      "displayName": "JomyMary Mathew",
      "userId": "01202227901626941766"
     },
     "user_tz": -330
    },
    "id": "mQlhBj4OlxAP",
    "outputId": "681fac6c-43f8-4516-d3af-1e8c08a9595a"
   },
   "outputs": [
    {
     "data": {
      "application/vnd.jupyter.widget-view+json": {
       "model_id": "ae9f381d6f9d45a9975311f4d52b4ca6",
       "version_major": 2,
       "version_minor": 0
      },
      "text/plain": [
       "modules.json:   0%|          | 0.00/349 [00:00<?, ?B/s]"
      ]
     },
     "metadata": {},
     "output_type": "display_data"
    },
    {
     "data": {
      "application/vnd.jupyter.widget-view+json": {
       "model_id": "2c147a3ea4d84e68ac0d86791d339840",
       "version_major": 2,
       "version_minor": 0
      },
      "text/plain": [
       "config_sentence_transformers.json:   0%|          | 0.00/116 [00:00<?, ?B/s]"
      ]
     },
     "metadata": {},
     "output_type": "display_data"
    },
    {
     "data": {
      "application/vnd.jupyter.widget-view+json": {
       "model_id": "565cd244a1d84092a83257db81949f77",
       "version_major": 2,
       "version_minor": 0
      },
      "text/plain": [
       "README.md:   0%|          | 0.00/10.5k [00:00<?, ?B/s]"
      ]
     },
     "metadata": {},
     "output_type": "display_data"
    },
    {
     "data": {
      "application/vnd.jupyter.widget-view+json": {
       "model_id": "950f05dd5aab44adacd871e7d4278a5e",
       "version_major": 2,
       "version_minor": 0
      },
      "text/plain": [
       "sentence_bert_config.json:   0%|          | 0.00/53.0 [00:00<?, ?B/s]"
      ]
     },
     "metadata": {},
     "output_type": "display_data"
    },
    {
     "data": {
      "application/vnd.jupyter.widget-view+json": {
       "model_id": "95d3eaea1e1c4e818ba27d30ea9d6943",
       "version_major": 2,
       "version_minor": 0
      },
      "text/plain": [
       "config.json:   0%|          | 0.00/612 [00:00<?, ?B/s]"
      ]
     },
     "metadata": {},
     "output_type": "display_data"
    },
    {
     "name": "stderr",
     "output_type": "stream",
     "text": [
      "Xet Storage is enabled for this repo, but the 'hf_xet' package is not installed. Falling back to regular HTTP download. For better performance, install the package with: `pip install huggingface_hub[hf_xet]` or `pip install hf_xet`\n",
      "WARNING:huggingface_hub.file_download:Xet Storage is enabled for this repo, but the 'hf_xet' package is not installed. Falling back to regular HTTP download. For better performance, install the package with: `pip install huggingface_hub[hf_xet]` or `pip install hf_xet`\n"
     ]
    },
    {
     "data": {
      "application/vnd.jupyter.widget-view+json": {
       "model_id": "8ff75222e34f47f8aba3876bdadc90b7",
       "version_major": 2,
       "version_minor": 0
      },
      "text/plain": [
       "model.safetensors:   0%|          | 0.00/90.9M [00:00<?, ?B/s]"
      ]
     },
     "metadata": {},
     "output_type": "display_data"
    },
    {
     "data": {
      "application/vnd.jupyter.widget-view+json": {
       "model_id": "2dfda6a08a8f4a09893fd242f6a6579f",
       "version_major": 2,
       "version_minor": 0
      },
      "text/plain": [
       "tokenizer_config.json:   0%|          | 0.00/350 [00:00<?, ?B/s]"
      ]
     },
     "metadata": {},
     "output_type": "display_data"
    },
    {
     "data": {
      "application/vnd.jupyter.widget-view+json": {
       "model_id": "96da3c8783ba41738a05ffaaf1a0dc0a",
       "version_major": 2,
       "version_minor": 0
      },
      "text/plain": [
       "vocab.txt:   0%|          | 0.00/232k [00:00<?, ?B/s]"
      ]
     },
     "metadata": {},
     "output_type": "display_data"
    },
    {
     "data": {
      "application/vnd.jupyter.widget-view+json": {
       "model_id": "875c5f29bbca4d60a13dd5eff19bce45",
       "version_major": 2,
       "version_minor": 0
      },
      "text/plain": [
       "tokenizer.json:   0%|          | 0.00/466k [00:00<?, ?B/s]"
      ]
     },
     "metadata": {},
     "output_type": "display_data"
    },
    {
     "data": {
      "application/vnd.jupyter.widget-view+json": {
       "model_id": "065f517efef94a7c9017cf5099b19414",
       "version_major": 2,
       "version_minor": 0
      },
      "text/plain": [
       "special_tokens_map.json:   0%|          | 0.00/112 [00:00<?, ?B/s]"
      ]
     },
     "metadata": {},
     "output_type": "display_data"
    },
    {
     "data": {
      "application/vnd.jupyter.widget-view+json": {
       "model_id": "74a811e7669d4de1aaff7aa3cf7a352e",
       "version_major": 2,
       "version_minor": 0
      },
      "text/plain": [
       "config.json:   0%|          | 0.00/190 [00:00<?, ?B/s]"
      ]
     },
     "metadata": {},
     "output_type": "display_data"
    },
    {
     "name": "stdout",
     "output_type": "stream",
     "text": [
      "Semantic similarity between original text and facebook/bart-large-cnn summary: 0.789\n",
      "Semantic similarity between original text and sshleifer/distilbart-cnn-12-6 summary: 0.796\n"
     ]
    }
   ],
   "source": [
    "from sentence_transformers import SentenceTransformer, util\n",
    "\n",
    "model = SentenceTransformer('all-MiniLM-L6-v2')\n",
    "\n",
    "# Encode original text and summaries\n",
    "emb_orig = model.encode(text, convert_to_tensor=True)\n",
    "emb_bart = model.encode(summary_bart, convert_to_tensor=True)\n",
    "emb_distilbart = model.encode(summary_distilbart, convert_to_tensor=True)\n",
    "\n",
    "# Compute cosine similarity\n",
    "sim_bart = util.pytorch_cos_sim(emb_orig, emb_bart).item()\n",
    "sim_distilbart = util.pytorch_cos_sim(emb_orig, emb_distilbart).item()\n",
    "\n",
    "print(f\"Semantic similarity between original text and facebook/bart-large-cnn summary: {sim_bart:.3f}\")\n",
    "print(f\"Semantic similarity between original text and sshleifer/distilbart-cnn-12-6 summary: {sim_distilbart:.3f}\")\n"
   ]
  },
  {
   "cell_type": "code",
   "execution_count": null,
   "metadata": {
    "colab": {
     "base_uri": "https://localhost:8080/",
     "height": 733
    },
    "executionInfo": {
     "elapsed": 71037,
     "status": "ok",
     "timestamp": 1748331766328,
     "user": {
      "displayName": "JomyMary Mathew",
      "userId": "01202227901626941766"
     },
     "user_tz": -330
    },
    "id": "_-6E2TK8sILQ",
    "outputId": "265e10d7-39a0-45ff-b793-98ab82b5a38d"
   },
   "outputs": [
    {
     "data": {
      "application/vnd.jupyter.widget-view+json": {
       "model_id": "8a17fed38e054be9bd9122d2f216e533",
       "version_major": 2,
       "version_minor": 0
      },
      "text/plain": [
       "config.json:   0%|          | 0.00/1.58k [00:00<?, ?B/s]"
      ]
     },
     "metadata": {},
     "output_type": "display_data"
    },
    {
     "name": "stderr",
     "output_type": "stream",
     "text": [
      "Xet Storage is enabled for this repo, but the 'hf_xet' package is not installed. Falling back to regular HTTP download. For better performance, install the package with: `pip install huggingface_hub[hf_xet]` or `pip install hf_xet`\n",
      "WARNING:huggingface_hub.file_download:Xet Storage is enabled for this repo, but the 'hf_xet' package is not installed. Falling back to regular HTTP download. For better performance, install the package with: `pip install huggingface_hub[hf_xet]` or `pip install hf_xet`\n"
     ]
    },
    {
     "data": {
      "application/vnd.jupyter.widget-view+json": {
       "model_id": "ebdab70f92cf4aa98fa408a664105faf",
       "version_major": 2,
       "version_minor": 0
      },
      "text/plain": [
       "model.safetensors:   0%|          | 0.00/1.63G [00:00<?, ?B/s]"
      ]
     },
     "metadata": {},
     "output_type": "display_data"
    },
    {
     "data": {
      "application/vnd.jupyter.widget-view+json": {
       "model_id": "6159732a87aa442d995dd11b279ab3ad",
       "version_major": 2,
       "version_minor": 0
      },
      "text/plain": [
       "generation_config.json:   0%|          | 0.00/363 [00:00<?, ?B/s]"
      ]
     },
     "metadata": {},
     "output_type": "display_data"
    },
    {
     "data": {
      "application/vnd.jupyter.widget-view+json": {
       "model_id": "9ae2e7e166f44d3084138d6bfec7d25c",
       "version_major": 2,
       "version_minor": 0
      },
      "text/plain": [
       "vocab.json:   0%|          | 0.00/899k [00:00<?, ?B/s]"
      ]
     },
     "metadata": {},
     "output_type": "display_data"
    },
    {
     "data": {
      "application/vnd.jupyter.widget-view+json": {
       "model_id": "b793917fc0b2497898e07f1ed4ae9f7d",
       "version_major": 2,
       "version_minor": 0
      },
      "text/plain": [
       "merges.txt:   0%|          | 0.00/456k [00:00<?, ?B/s]"
      ]
     },
     "metadata": {},
     "output_type": "display_data"
    },
    {
     "data": {
      "application/vnd.jupyter.widget-view+json": {
       "model_id": "0aabd82c716543ce9b8c832cfbd6939f",
       "version_major": 2,
       "version_minor": 0
      },
      "text/plain": [
       "tokenizer.json:   0%|          | 0.00/1.36M [00:00<?, ?B/s]"
      ]
     },
     "metadata": {},
     "output_type": "display_data"
    },
    {
     "name": "stderr",
     "output_type": "stream",
     "text": [
      "Device set to use cpu\n",
      "Device set to use cpu\n"
     ]
    },
    {
     "data": {
      "image/png": "[encoded data removed]",
      "text/plain": [
       "<Figure size 640x480 with 1 Axes>"
      ]
     },
     "metadata": {},
     "output_type": "display_data"
    }
   ],
   "source": [
    "from transformers import pipeline\n",
    "from sentence_transformers import SentenceTransformer, util\n",
    "import matplotlib.pyplot as plt\n",
    "\n",
    "# Load summarization pipelines\n",
    "summarizer_bart = pipeline(\"summarization\", model=\"facebook/bart-large-cnn\")\n",
    "summarizer_distilbart = pipeline(\"summarization\", model=\"sshleifer/distilbart-cnn-12-6\")\n",
    "\n",
    "text = \"\"\"BENCH: A.K. MATHUR & MARKANDEY KATJU JUDGMENT: J U D G M E N T  A.K. MATHUR, J. 1. These appeals are directed against the order dated 15th may 2003 passed by the Division Bench of Madhya Pradesh High Court in Writ Petition No. 5634 of 1999, whereby Shiv Nath Prasad, appellant (herein) challenged the order passed by the State Administrative Tribunal challenging the promotion of petitioner/appellant before us and private respondents who belong to non-scheduled caste. The case of the appellant (herein) was that he was appointed as Assistant Engineer in the Public Works Department after selection through Madhya Pradesh Public Service Commission. Petitioner/Appellant (Scheduled Caste) alongwith other Schedule Caste and other private respondents (non-SC) were selected and appointed as Assistant Engineers on the basis of Civil Services Examination conducted by the Madhya Pradesh Public Service Commission. The names of scheduled caste candidates appeared at S.Nos. 23, 24 and 25 below the name of the respondent Saran Pal Jeet Singh Tulsi (herein). After their appointment, they joined the duties on the post of Assistant Engineer on different dates in the year 1972. The names of the petitioner/appellant and other scheduled caste candidates were shown in the select list prepared by the Public Service Commission in lower position and their seniority was also drawn on the post of Assistant Engineer in the order mentioned in the select list. In the gradation list, issued for the post of Assistant Engineer as on 1.4.1982, the names of the petitioner/appellant and other scheduled caste candidates duly selected appeared at S. Nos 187, 189 and 190, while the name of the respondent no. 1 (herein) and others appeared between S.Nos 168-186. Therefore, admittedly, the respondents (herein) were senior to the petitioner/appellant. Thereafter, the petitioner/appellant was promoted to the post of the Executive Engineer in July, 1980 against the reserved post of the Executive Engineer, whereas, other private respondents (non-scheduled caste candidates) were not considered for promotion on account of non-availability of post in general category. But, they were considered and appointed on the post of Executive Engineer in the year 1985, i.e. much after the promotions of the scheduled caste candidates including that of petitioner/appellant.\"\"\"\n",
    "\n",
    "# Generate summaries\n",
    "summary_bart = summarizer_bart(text, max_length=150, min_length=50, do_sample=False)[0]['summary_text']\n",
    "summary_distilbart = summarizer_distilbart(text, max_length=150, min_length=50, do_sample=False)[0]['summary_text']\n",
    "\n",
    "# Load sentence transformer model for embeddings\n",
    "model = SentenceTransformer('all-MiniLM-L6-v2')\n",
    "\n",
    "# Compute embeddings\n",
    "emb_orig = model.encode(text, convert_to_tensor=True)\n",
    "emb_bart = model.encode(summary_bart, convert_to_tensor=True)\n",
    "emb_distilbart = model.encode(summary_distilbart, convert_to_tensor=True)\n",
    "\n",
    "# Compute cosine similarities\n",
    "sim_bart = util.pytorch_cos_sim(emb_orig, emb_bart).item()\n",
    "sim_distilbart = util.pytorch_cos_sim(emb_orig, emb_distilbart).item()\n",
    "\n",
    "# Plot results\n",
    "models = ['facebook/bart-large-cnn', 'sshleifer/distilbart-cnn-12-6']\n",
    "similarities = [sim_bart, sim_distilbart]\n",
    "\n",
    "plt.bar(models, similarities, color=['blue', 'green'])\n",
    "plt.ylabel('Semantic Similarity (Cosine)')\n",
    "plt.title('Semantic Similarity of Summaries to Original Text')\n",
    "plt.ylim(0, 1)\n",
    "for i, v in enumerate(similarities):\n",
    "    plt.text(i, v + 0.02, f\"{v:.3f}\", ha='center')\n",
    "plt.show()\n"
   ]
  }
 ],
 "metadata": {
  "colab": {
   "collapsed_sections": [
    "CWbjJ2dQkSG4"
   ],
   "provenance": []
  },
  "kernelspec": {
   "display_name": "Python 3 (ipykernel)",
   "language": "python",
   "name": "python3"
  },
  "language_info": {
   "name": "python"
  }
 },
 "nbformat": 4,
 "nbformat_minor": 4
}
