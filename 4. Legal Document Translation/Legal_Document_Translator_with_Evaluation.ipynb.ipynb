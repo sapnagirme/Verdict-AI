{
 "cells": [
  {
   "cell_type": "code",
   "execution_count": null,
   "metadata": {
    "colab": {
     "base_uri": "https://localhost:8080/"
    },
    "executionInfo": {
     "elapsed": 111655,
     "status": "ok",
     "timestamp": 1748854500375,
     "user": {
      "displayName": "Sapna Girme",
      "userId": "02288763846255719892"
     },
     "user_tz": -330
    },
    "id": "jk6IbxQr-QUf",
    "outputId": "45fef747-77c5-4c33-8230-f1a94e1747bc"
   },
   "outputs": [
    {
     "name": "stdout",
     "output_type": "stream",
     "text": [
      "Requirement already satisfied: transformers in /usr/local/lib/python3.11/dist-packages (4.52.2)\n",
      "Requirement already satisfied: sentencepiece in /usr/local/lib/python3.11/dist-packages (0.2.0)\n",
      "Requirement already satisfied: torch in /usr/local/lib/python3.11/dist-packages (2.6.0+cu124)\n",
      "Collecting python-docx\n",
      "  Downloading python_docx-1.1.2-py3-none-any.whl.metadata (2.0 kB)\n",
      "Requirement already satisfied: filelock in /usr/local/lib/python3.11/dist-packages (from transformers) (3.18.0)\n",
      "Requirement already satisfied: huggingface-hub<1.0,>=0.30.0 in /usr/local/lib/python3.11/dist-packages (from transformers) (0.31.4)\n",
      "Requirement already satisfied: numpy>=1.17 in /usr/local/lib/python3.11/dist-packages (from transformers) (2.0.2)\n",
      "Requirement already satisfied: packaging>=20.0 in /usr/local/lib/python3.11/dist-packages (from transformers) (24.2)\n",
      "Requirement already satisfied: pyyaml>=5.1 in /usr/local/lib/python3.11/dist-packages (from transformers) (6.0.2)\n",
      "Requirement already satisfied: regex!=2019.12.17 in /usr/local/lib/python3.11/dist-packages (from transformers) (2024.11.6)\n",
      "Requirement already satisfied: requests in /usr/local/lib/python3.11/dist-packages (from transformers) (2.32.3)\n",
      "Requirement already satisfied: tokenizers<0.22,>=0.21 in /usr/local/lib/python3.11/dist-packages (from transformers) (0.21.1)\n",
      "Requirement already satisfied: safetensors>=0.4.3 in /usr/local/lib/python3.11/dist-packages (from transformers) (0.5.3)\n",
      "Requirement already satisfied: tqdm>=4.27 in /usr/local/lib/python3.11/dist-packages (from transformers) (4.67.1)\n",
      "Requirement already satisfied: typing-extensions>=4.10.0 in /usr/local/lib/python3.11/dist-packages (from torch) (4.13.2)\n",
      "Requirement already satisfied: networkx in /usr/local/lib/python3.11/dist-packages (from torch) (3.4.2)\n",
      "Requirement already satisfied: jinja2 in /usr/local/lib/python3.11/dist-packages (from torch) (3.1.6)\n",
      "Requirement already satisfied: fsspec in /usr/local/lib/python3.11/dist-packages (from torch) (2025.3.2)\n",
      "Collecting nvidia-cuda-nvrtc-cu12==12.4.127 (from torch)\n",
      "  Downloading nvidia_cuda_nvrtc_cu12-12.4.127-py3-none-manylinux2014_x86_64.whl.metadata (1.5 kB)\n",
      "Collecting nvidia-cuda-runtime-cu12==12.4.127 (from torch)\n",
      "  Downloading nvidia_cuda_runtime_cu12-12.4.127-py3-none-manylinux2014_x86_64.whl.metadata (1.5 kB)\n",
      "Collecting nvidia-cuda-cupti-cu12==12.4.127 (from torch)\n",
      "  Downloading nvidia_cuda_cupti_cu12-12.4.127-py3-none-manylinux2014_x86_64.whl.metadata (1.6 kB)\n",
      "Collecting nvidia-cudnn-cu12==9.1.0.70 (from torch)\n",
      "  Downloading nvidia_cudnn_cu12-9.1.0.70-py3-none-manylinux2014_x86_64.whl.metadata (1.6 kB)\n",
      "Collecting nvidia-cublas-cu12==12.4.5.8 (from torch)\n",
      "  Downloading nvidia_cublas_cu12-12.4.5.8-py3-none-manylinux2014_x86_64.whl.metadata (1.5 kB)\n",
      "Collecting nvidia-cufft-cu12==11.2.1.3 (from torch)\n",
      "  Downloading nvidia_cufft_cu12-11.2.1.3-py3-none-manylinux2014_x86_64.whl.metadata (1.5 kB)\n",
      "Collecting nvidia-curand-cu12==10.3.5.147 (from torch)\n",
      "  Downloading nvidia_curand_cu12-10.3.5.147-py3-none-manylinux2014_x86_64.whl.metadata (1.5 kB)\n",
      "Collecting nvidia-cusolver-cu12==11.6.1.9 (from torch)\n",
      "  Downloading nvidia_cusolver_cu12-11.6.1.9-py3-none-manylinux2014_x86_64.whl.metadata (1.6 kB)\n",
      "Collecting nvidia-cusparse-cu12==12.3.1.170 (from torch)\n",
      "  Downloading nvidia_cusparse_cu12-12.3.1.170-py3-none-manylinux2014_x86_64.whl.metadata (1.6 kB)\n",
      "Requirement already satisfied: nvidia-cusparselt-cu12==0.6.2 in /usr/local/lib/python3.11/dist-packages (from torch) (0.6.2)\n",
      "Requirement already satisfied: nvidia-nccl-cu12==2.21.5 in /usr/local/lib/python3.11/dist-packages (from torch) (2.21.5)\n",
      "Requirement already satisfied: nvidia-nvtx-cu12==12.4.127 in /usr/local/lib/python3.11/dist-packages (from torch) (12.4.127)\n",
      "Collecting nvidia-nvjitlink-cu12==12.4.127 (from torch)\n",
      "  Downloading nvidia_nvjitlink_cu12-12.4.127-py3-none-manylinux2014_x86_64.whl.metadata (1.5 kB)\n",
      "Requirement already satisfied: triton==3.2.0 in /usr/local/lib/python3.11/dist-packages (from torch) (3.2.0)\n",
      "Requirement already satisfied: sympy==1.13.1 in /usr/local/lib/python3.11/dist-packages (from torch) (1.13.1)\n",
      "Requirement already satisfied: mpmath<1.4,>=1.1.0 in /usr/local/lib/python3.11/dist-packages (from sympy==1.13.1->torch) (1.3.0)\n",
      "Requirement already satisfied: lxml>=3.1.0 in /usr/local/lib/python3.11/dist-packages (from python-docx) (5.4.0)\n",
      "Requirement already satisfied: MarkupSafe>=2.0 in /usr/local/lib/python3.11/dist-packages (from jinja2->torch) (3.0.2)\n",
      "Requirement already satisfied: charset-normalizer<4,>=2 in /usr/local/lib/python3.11/dist-packages (from requests->transformers) (3.4.2)\n",
      "Requirement already satisfied: idna<4,>=2.5 in /usr/local/lib/python3.11/dist-packages (from requests->transformers) (3.10)\n",
      "Requirement already satisfied: urllib3<3,>=1.21.1 in /usr/local/lib/python3.11/dist-packages (from requests->transformers) (2.4.0)\n",
      "Requirement already satisfied: certifi>=2017.4.17 in /usr/local/lib/python3.11/dist-packages (from requests->transformers) (2025.4.26)\n",
      "Downloading nvidia_cublas_cu12-12.4.5.8-py3-none-manylinux2014_x86_64.whl (363.4 MB)\n",
      "\u001b[2K   \u001b[90m━━━━━━━━━━━━━━━━━━━━━━━━━━━━━━━━━━━━━━━━\u001b[0m \u001b[32m363.4/363.4 MB\u001b[0m \u001b[31m3.6 MB/s\u001b[0m eta \u001b[36m0:00:00\u001b[0m\n",
      "\u001b[?25hDownloading nvidia_cuda_cupti_cu12-12.4.127-py3-none-manylinux2014_x86_64.whl (13.8 MB)\n",
      "\u001b[2K   \u001b[90m━━━━━━━━━━━━━━━━━━━━━━━━━━━━━━━━━━━━━━━━\u001b[0m \u001b[32m13.8/13.8 MB\u001b[0m \u001b[31m33.6 MB/s\u001b[0m eta \u001b[36m0:00:00\u001b[0m\n",
      "\u001b[?25hDownloading nvidia_cuda_nvrtc_cu12-12.4.127-py3-none-manylinux2014_x86_64.whl (24.6 MB)\n",
      "\u001b[2K   \u001b[90m━━━━━━━━━━━━━━━━━━━━━━━━━━━━━━━━━━━━━━━━\u001b[0m \u001b[32m24.6/24.6 MB\u001b[0m \u001b[31m26.6 MB/s\u001b[0m eta \u001b[36m0:00:00\u001b[0m\n",
      "\u001b[?25hDownloading nvidia_cuda_runtime_cu12-12.4.127-py3-none-manylinux2014_x86_64.whl (883 kB)\n",
      "\u001b[2K   \u001b[90m━━━━━━━━━━━━━━━━━━━━━━━━━━━━━━━━━━━━━━━━\u001b[0m \u001b[32m883.7/883.7 kB\u001b[0m \u001b[31m30.8 MB/s\u001b[0m eta \u001b[36m0:00:00\u001b[0m\n",
      "\u001b[?25hDownloading nvidia_cudnn_cu12-9.1.0.70-py3-none-manylinux2014_x86_64.whl (664.8 MB)\n",
      "\u001b[2K   \u001b[90m━━━━━━━━━━━━━━━━━━━━━━━━━━━━━━━━━━━━━━━━\u001b[0m \u001b[32m664.8/664.8 MB\u001b[0m \u001b[31m1.3 MB/s\u001b[0m eta \u001b[36m0:00:00\u001b[0m\n",
      "\u001b[?25hDownloading nvidia_cufft_cu12-11.2.1.3-py3-none-manylinux2014_x86_64.whl (211.5 MB)\n",
      "\u001b[2K   \u001b[90m━━━━━━━━━━━━━━━━━━━━━━━━━━━━━━━━━━━━━━━━\u001b[0m \u001b[32m211.5/211.5 MB\u001b[0m \u001b[31m4.6 MB/s\u001b[0m eta \u001b[36m0:00:00\u001b[0m\n",
      "\u001b[?25hDownloading nvidia_curand_cu12-10.3.5.147-py3-none-manylinux2014_x86_64.whl (56.3 MB)\n",
      "\u001b[2K   \u001b[90m━━━━━━━━━━━━━━━━━━━━━━━━━━━━━━━━━━━━━━━━\u001b[0m \u001b[32m56.3/56.3 MB\u001b[0m \u001b[31m9.7 MB/s\u001b[0m eta \u001b[36m0:00:00\u001b[0m\n",
      "\u001b[?25hDownloading nvidia_cusolver_cu12-11.6.1.9-py3-none-manylinux2014_x86_64.whl (127.9 MB)\n",
      "\u001b[2K   \u001b[90m━━━━━━━━━━━━━━━━━━━━━━━━━━━━━━━━━━━━━━━━\u001b[0m \u001b[32m127.9/127.9 MB\u001b[0m \u001b[31m8.1 MB/s\u001b[0m eta \u001b[36m0:00:00\u001b[0m\n",
      "\u001b[?25hDownloading nvidia_cusparse_cu12-12.3.1.170-py3-none-manylinux2014_x86_64.whl (207.5 MB)\n",
      "\u001b[2K   \u001b[90m━━━━━━━━━━━━━━━━━━━━━━━━━━━━━━━━━━━━━━━━\u001b[0m \u001b[32m207.5/207.5 MB\u001b[0m \u001b[31m5.9 MB/s\u001b[0m eta \u001b[36m0:00:00\u001b[0m\n",
      "\u001b[?25hDownloading nvidia_nvjitlink_cu12-12.4.127-py3-none-manylinux2014_x86_64.whl (21.1 MB)\n",
      "\u001b[2K   \u001b[90m━━━━━━━━━━━━━━━━━━━━━━━━━━━━━━━━━━━━━━━━\u001b[0m \u001b[32m21.1/21.1 MB\u001b[0m \u001b[31m76.0 MB/s\u001b[0m eta \u001b[36m0:00:00\u001b[0m\n",
      "\u001b[?25hDownloading python_docx-1.1.2-py3-none-any.whl (244 kB)\n",
      "\u001b[2K   \u001b[90m━━━━━━━━━━━━━━━━━━━━━━━━━━━━━━━━━━━━━━━━\u001b[0m \u001b[32m244.3/244.3 kB\u001b[0m \u001b[31m22.6 MB/s\u001b[0m eta \u001b[36m0:00:00\u001b[0m\n",
      "\u001b[?25hInstalling collected packages: python-docx, nvidia-nvjitlink-cu12, nvidia-curand-cu12, nvidia-cufft-cu12, nvidia-cuda-runtime-cu12, nvidia-cuda-nvrtc-cu12, nvidia-cuda-cupti-cu12, nvidia-cublas-cu12, nvidia-cusparse-cu12, nvidia-cudnn-cu12, nvidia-cusolver-cu12\n",
      "  Attempting uninstall: nvidia-nvjitlink-cu12\n",
      "    Found existing installation: nvidia-nvjitlink-cu12 12.5.82\n",
      "    Uninstalling nvidia-nvjitlink-cu12-12.5.82:\n",
      "      Successfully uninstalled nvidia-nvjitlink-cu12-12.5.82\n",
      "  Attempting uninstall: nvidia-curand-cu12\n",
      "    Found existing installation: nvidia-curand-cu12 10.3.6.82\n",
      "    Uninstalling nvidia-curand-cu12-10.3.6.82:\n",
      "      Successfully uninstalled nvidia-curand-cu12-10.3.6.82\n",
      "  Attempting uninstall: nvidia-cufft-cu12\n",
      "    Found existing installation: nvidia-cufft-cu12 11.2.3.61\n",
      "    Uninstalling nvidia-cufft-cu12-11.2.3.61:\n",
      "      Successfully uninstalled nvidia-cufft-cu12-11.2.3.61\n",
      "  Attempting uninstall: nvidia-cuda-runtime-cu12\n",
      "    Found existing installation: nvidia-cuda-runtime-cu12 12.5.82\n",
      "    Uninstalling nvidia-cuda-runtime-cu12-12.5.82:\n",
      "      Successfully uninstalled nvidia-cuda-runtime-cu12-12.5.82\n",
      "  Attempting uninstall: nvidia-cuda-nvrtc-cu12\n",
      "    Found existing installation: nvidia-cuda-nvrtc-cu12 12.5.82\n",
      "    Uninstalling nvidia-cuda-nvrtc-cu12-12.5.82:\n",
      "      Successfully uninstalled nvidia-cuda-nvrtc-cu12-12.5.82\n",
      "  Attempting uninstall: nvidia-cuda-cupti-cu12\n",
      "    Found existing installation: nvidia-cuda-cupti-cu12 12.5.82\n",
      "    Uninstalling nvidia-cuda-cupti-cu12-12.5.82:\n",
      "      Successfully uninstalled nvidia-cuda-cupti-cu12-12.5.82\n",
      "  Attempting uninstall: nvidia-cublas-cu12\n",
      "    Found existing installation: nvidia-cublas-cu12 12.5.3.2\n",
      "    Uninstalling nvidia-cublas-cu12-12.5.3.2:\n",
      "      Successfully uninstalled nvidia-cublas-cu12-12.5.3.2\n",
      "  Attempting uninstall: nvidia-cusparse-cu12\n",
      "    Found existing installation: nvidia-cusparse-cu12 12.5.1.3\n",
      "    Uninstalling nvidia-cusparse-cu12-12.5.1.3:\n",
      "      Successfully uninstalled nvidia-cusparse-cu12-12.5.1.3\n",
      "  Attempting uninstall: nvidia-cudnn-cu12\n",
      "    Found existing installation: nvidia-cudnn-cu12 9.3.0.75\n",
      "    Uninstalling nvidia-cudnn-cu12-9.3.0.75:\n",
      "      Successfully uninstalled nvidia-cudnn-cu12-9.3.0.75\n",
      "  Attempting uninstall: nvidia-cusolver-cu12\n",
      "    Found existing installation: nvidia-cusolver-cu12 11.6.3.83\n",
      "    Uninstalling nvidia-cusolver-cu12-11.6.3.83:\n",
      "      Successfully uninstalled nvidia-cusolver-cu12-11.6.3.83\n",
      "Successfully installed nvidia-cublas-cu12-12.4.5.8 nvidia-cuda-cupti-cu12-12.4.127 nvidia-cuda-nvrtc-cu12-12.4.127 nvidia-cuda-runtime-cu12-12.4.127 nvidia-cudnn-cu12-9.1.0.70 nvidia-cufft-cu12-11.2.1.3 nvidia-curand-cu12-10.3.5.147 nvidia-cusolver-cu12-11.6.1.9 nvidia-cusparse-cu12-12.3.1.170 nvidia-nvjitlink-cu12-12.4.127 python-docx-1.1.2\n"
     ]
    }
   ],
   "source": [
    "# Ensure python-docx is installed\n",
    "!pip install transformers sentencepiece torch python-docx"
   ]
  },
  {
   "cell_type": "code",
   "execution_count": null,
   "metadata": {
    "id": "Nk9X63I1Bwt4"
   },
   "outputs": [],
   "source": [
    "from transformers import AutoTokenizer, AutoModelForSeq2SeqLM"
   ]
  },
  {
   "cell_type": "code",
   "execution_count": null,
   "metadata": {
    "colab": {
     "base_uri": "https://localhost:8080/"
    },
    "executionInfo": {
     "elapsed": 4538,
     "status": "ok",
     "timestamp": 1748854514658,
     "user": {
      "displayName": "Sapna Girme",
      "userId": "02288763846255719892"
     },
     "user_tz": -330
    },
    "id": "iSvdZQtWANXF",
    "outputId": "5c4aa87a-3553-438c-cf59-6a787a0e1630"
   },
   "outputs": [
    {
     "name": "stdout",
     "output_type": "stream",
     "text": [
      "Collecting pymupdf\n",
      "  Downloading pymupdf-1.26.0-cp39-abi3-manylinux2014_x86_64.manylinux_2_17_x86_64.whl.metadata (3.4 kB)\n",
      "Downloading pymupdf-1.26.0-cp39-abi3-manylinux2014_x86_64.manylinux_2_17_x86_64.whl (24.1 MB)\n",
      "\u001b[2K   \u001b[90m━━━━━━━━━━━━━━━━━━━━━━━━━━━━━━━━━━━━━━━━\u001b[0m \u001b[32m24.1/24.1 MB\u001b[0m \u001b[31m67.2 MB/s\u001b[0m eta \u001b[36m0:00:00\u001b[0m\n",
      "\u001b[?25hInstalling collected packages: pymupdf\n",
      "Successfully installed pymupdf-1.26.0\n"
     ]
    }
   ],
   "source": [
    "!pip install pymupdf"
   ]
  },
  {
   "cell_type": "code",
   "execution_count": null,
   "metadata": {
    "colab": {
     "base_uri": "https://localhost:8080/"
    },
    "executionInfo": {
     "elapsed": 32116,
     "status": "ok",
     "timestamp": 1748854546776,
     "user": {
      "displayName": "Sapna Girme",
      "userId": "02288763846255719892"
     },
     "user_tz": -330
    },
    "id": "WXgAzSdEACFy",
    "outputId": "f2a143fb-384a-496a-b68e-da01b4385caa"
   },
   "outputs": [
    {
     "name": "stdout",
     "output_type": "stream",
     "text": [
      "Collecting git+https://github.com/VarunGumma/IndicTransToolkit.git\n",
      "  Cloning https://github.com/VarunGumma/IndicTransToolkit.git to /tmp/pip-req-build-lmtjhqlm\n",
      "  Running command git clone --filter=blob:none --quiet https://github.com/VarunGumma/IndicTransToolkit.git /tmp/pip-req-build-lmtjhqlm\n",
      "  Resolved https://github.com/VarunGumma/IndicTransToolkit.git to commit 728a7a9e8bcbbc59ca9e15c4297889df866b8c4a\n",
      "  Installing build dependencies ... \u001b[?25l\u001b[?25hdone\n",
      "  Getting requirements to build wheel ... \u001b[?25l\u001b[?25hdone\n",
      "  Preparing metadata (pyproject.toml) ... \u001b[?25l\u001b[?25hdone\n",
      "Requirement already satisfied: setuptools>=68.2.2 in /usr/local/lib/python3.11/dist-packages (from IndicTransToolkit==1.0.3) (75.2.0)\n",
      "Requirement already satisfied: torch in /usr/local/lib/python3.11/dist-packages (from IndicTransToolkit==1.0.3) (2.6.0+cu124)\n",
      "Requirement already satisfied: cython in /usr/local/lib/python3.11/dist-packages (from IndicTransToolkit==1.0.3) (3.0.12)\n",
      "Collecting sacremoses (from IndicTransToolkit==1.0.3)\n",
      "  Downloading sacremoses-0.1.1-py3-none-any.whl.metadata (8.3 kB)\n",
      "Requirement already satisfied: sentencepiece in /usr/local/lib/python3.11/dist-packages (from IndicTransToolkit==1.0.3) (0.2.0)\n",
      "Requirement already satisfied: transformers in /usr/local/lib/python3.11/dist-packages (from IndicTransToolkit==1.0.3) (4.52.2)\n",
      "Collecting sacrebleu (from IndicTransToolkit==1.0.3)\n",
      "  Downloading sacrebleu-2.5.1-py3-none-any.whl.metadata (51 kB)\n",
      "\u001b[2K     \u001b[90m━━━━━━━━━━━━━━━━━━━━━━━━━━━━━━━━━━━━━━━━\u001b[0m \u001b[32m51.8/51.8 kB\u001b[0m \u001b[31m4.3 MB/s\u001b[0m eta \u001b[36m0:00:00\u001b[0m\n",
      "\u001b[?25hCollecting indic-nlp-library-itt (from IndicTransToolkit==1.0.3)\n",
      "  Downloading indic_nlp_library_itt-0.1.0-py3-none-any.whl.metadata (2.1 kB)\n",
      "Collecting morfessor<3.0.0,>=2.0.6 (from indic-nlp-library-itt->IndicTransToolkit==1.0.3)\n",
      "  Downloading Morfessor-2.0.6-py3-none-any.whl.metadata (628 bytes)\n",
      "Collecting numpy<3.0.0,>=2.2.5 (from indic-nlp-library-itt->IndicTransToolkit==1.0.3)\n",
      "  Downloading numpy-2.2.6-cp311-cp311-manylinux_2_17_x86_64.manylinux2014_x86_64.whl.metadata (62 kB)\n",
      "\u001b[2K     \u001b[90m━━━━━━━━━━━━━━━━━━━━━━━━━━━━━━━━━━━━━━━━\u001b[0m \u001b[32m62.0/62.0 kB\u001b[0m \u001b[31m4.3 MB/s\u001b[0m eta \u001b[36m0:00:00\u001b[0m\n",
      "\u001b[?25hCollecting pandas<3.0.0,>=2.2.3 (from indic-nlp-library-itt->IndicTransToolkit==1.0.3)\n",
      "  Downloading pandas-2.2.3-cp311-cp311-manylinux_2_17_x86_64.manylinux2014_x86_64.whl.metadata (89 kB)\n",
      "\u001b[2K     \u001b[90m━━━━━━━━━━━━━━━━━━━━━━━━━━━━━━━━━━━━━━━━\u001b[0m \u001b[32m89.9/89.9 kB\u001b[0m \u001b[31m8.2 MB/s\u001b[0m eta \u001b[36m0:00:00\u001b[0m\n",
      "\u001b[?25hCollecting sphinx-argparse<0.6.0,>=0.5.2 (from indic-nlp-library-itt->IndicTransToolkit==1.0.3)\n",
      "  Downloading sphinx_argparse-0.5.2-py3-none-any.whl.metadata (3.7 kB)\n",
      "Collecting sphinx-rtd-theme<4.0.0,>=3.0.2 (from indic-nlp-library-itt->IndicTransToolkit==1.0.3)\n",
      "  Downloading sphinx_rtd_theme-3.0.2-py2.py3-none-any.whl.metadata (4.4 kB)\n",
      "Collecting portalocker (from sacrebleu->IndicTransToolkit==1.0.3)\n",
      "  Downloading portalocker-3.1.1-py3-none-any.whl.metadata (8.6 kB)\n",
      "Requirement already satisfied: regex in /usr/local/lib/python3.11/dist-packages (from sacrebleu->IndicTransToolkit==1.0.3) (2024.11.6)\n",
      "Requirement already satisfied: tabulate>=0.8.9 in /usr/local/lib/python3.11/dist-packages (from sacrebleu->IndicTransToolkit==1.0.3) (0.9.0)\n",
      "Collecting colorama (from sacrebleu->IndicTransToolkit==1.0.3)\n",
      "  Downloading colorama-0.4.6-py2.py3-none-any.whl.metadata (17 kB)\n",
      "Requirement already satisfied: lxml in /usr/local/lib/python3.11/dist-packages (from sacrebleu->IndicTransToolkit==1.0.3) (5.4.0)\n",
      "Requirement already satisfied: click in /usr/local/lib/python3.11/dist-packages (from sacremoses->IndicTransToolkit==1.0.3) (8.2.1)\n",
      "Requirement already satisfied: joblib in /usr/local/lib/python3.11/dist-packages (from sacremoses->IndicTransToolkit==1.0.3) (1.5.0)\n",
      "Requirement already satisfied: tqdm in /usr/local/lib/python3.11/dist-packages (from sacremoses->IndicTransToolkit==1.0.3) (4.67.1)\n",
      "Requirement already satisfied: filelock in /usr/local/lib/python3.11/dist-packages (from torch->IndicTransToolkit==1.0.3) (3.18.0)\n",
      "Requirement already satisfied: typing-extensions>=4.10.0 in /usr/local/lib/python3.11/dist-packages (from torch->IndicTransToolkit==1.0.3) (4.13.2)\n",
      "Requirement already satisfied: networkx in /usr/local/lib/python3.11/dist-packages (from torch->IndicTransToolkit==1.0.3) (3.4.2)\n",
      "Requirement already satisfied: jinja2 in /usr/local/lib/python3.11/dist-packages (from torch->IndicTransToolkit==1.0.3) (3.1.6)\n",
      "Requirement already satisfied: fsspec in /usr/local/lib/python3.11/dist-packages (from torch->IndicTransToolkit==1.0.3) (2025.3.2)\n",
      "Requirement already satisfied: nvidia-cuda-nvrtc-cu12==12.4.127 in /usr/local/lib/python3.11/dist-packages (from torch->IndicTransToolkit==1.0.3) (12.4.127)\n",
      "Requirement already satisfied: nvidia-cuda-runtime-cu12==12.4.127 in /usr/local/lib/python3.11/dist-packages (from torch->IndicTransToolkit==1.0.3) (12.4.127)\n",
      "Requirement already satisfied: nvidia-cuda-cupti-cu12==12.4.127 in /usr/local/lib/python3.11/dist-packages (from torch->IndicTransToolkit==1.0.3) (12.4.127)\n",
      "Requirement already satisfied: nvidia-cudnn-cu12==9.1.0.70 in /usr/local/lib/python3.11/dist-packages (from torch->IndicTransToolkit==1.0.3) (9.1.0.70)\n",
      "Requirement already satisfied: nvidia-cublas-cu12==12.4.5.8 in /usr/local/lib/python3.11/dist-packages (from torch->IndicTransToolkit==1.0.3) (12.4.5.8)\n",
      "Requirement already satisfied: nvidia-cufft-cu12==11.2.1.3 in /usr/local/lib/python3.11/dist-packages (from torch->IndicTransToolkit==1.0.3) (11.2.1.3)\n",
      "Requirement already satisfied: nvidia-curand-cu12==10.3.5.147 in /usr/local/lib/python3.11/dist-packages (from torch->IndicTransToolkit==1.0.3) (10.3.5.147)\n",
      "Requirement already satisfied: nvidia-cusolver-cu12==11.6.1.9 in /usr/local/lib/python3.11/dist-packages (from torch->IndicTransToolkit==1.0.3) (11.6.1.9)\n",
      "Requirement already satisfied: nvidia-cusparse-cu12==12.3.1.170 in /usr/local/lib/python3.11/dist-packages (from torch->IndicTransToolkit==1.0.3) (12.3.1.170)\n",
      "Requirement already satisfied: nvidia-cusparselt-cu12==0.6.2 in /usr/local/lib/python3.11/dist-packages (from torch->IndicTransToolkit==1.0.3) (0.6.2)\n",
      "Requirement already satisfied: nvidia-nccl-cu12==2.21.5 in /usr/local/lib/python3.11/dist-packages (from torch->IndicTransToolkit==1.0.3) (2.21.5)\n",
      "Requirement already satisfied: nvidia-nvtx-cu12==12.4.127 in /usr/local/lib/python3.11/dist-packages (from torch->IndicTransToolkit==1.0.3) (12.4.127)\n",
      "Requirement already satisfied: nvidia-nvjitlink-cu12==12.4.127 in /usr/local/lib/python3.11/dist-packages (from torch->IndicTransToolkit==1.0.3) (12.4.127)\n",
      "Requirement already satisfied: triton==3.2.0 in /usr/local/lib/python3.11/dist-packages (from torch->IndicTransToolkit==1.0.3) (3.2.0)\n",
      "Requirement already satisfied: sympy==1.13.1 in /usr/local/lib/python3.11/dist-packages (from torch->IndicTransToolkit==1.0.3) (1.13.1)\n",
      "Requirement already satisfied: mpmath<1.4,>=1.1.0 in /usr/local/lib/python3.11/dist-packages (from sympy==1.13.1->torch->IndicTransToolkit==1.0.3) (1.3.0)\n",
      "Requirement already satisfied: huggingface-hub<1.0,>=0.30.0 in /usr/local/lib/python3.11/dist-packages (from transformers->IndicTransToolkit==1.0.3) (0.31.4)\n",
      "Requirement already satisfied: packaging>=20.0 in /usr/local/lib/python3.11/dist-packages (from transformers->IndicTransToolkit==1.0.3) (24.2)\n",
      "Requirement already satisfied: pyyaml>=5.1 in /usr/local/lib/python3.11/dist-packages (from transformers->IndicTransToolkit==1.0.3) (6.0.2)\n",
      "Requirement already satisfied: requests in /usr/local/lib/python3.11/dist-packages (from transformers->IndicTransToolkit==1.0.3) (2.32.3)\n",
      "Requirement already satisfied: tokenizers<0.22,>=0.21 in /usr/local/lib/python3.11/dist-packages (from transformers->IndicTransToolkit==1.0.3) (0.21.1)\n",
      "Requirement already satisfied: safetensors>=0.4.3 in /usr/local/lib/python3.11/dist-packages (from transformers->IndicTransToolkit==1.0.3) (0.5.3)\n",
      "Requirement already satisfied: python-dateutil>=2.8.2 in /usr/local/lib/python3.11/dist-packages (from pandas<3.0.0,>=2.2.3->indic-nlp-library-itt->IndicTransToolkit==1.0.3) (2.9.0.post0)\n",
      "Requirement already satisfied: pytz>=2020.1 in /usr/local/lib/python3.11/dist-packages (from pandas<3.0.0,>=2.2.3->indic-nlp-library-itt->IndicTransToolkit==1.0.3) (2025.2)\n",
      "Requirement already satisfied: tzdata>=2022.7 in /usr/local/lib/python3.11/dist-packages (from pandas<3.0.0,>=2.2.3->indic-nlp-library-itt->IndicTransToolkit==1.0.3) (2025.2)\n",
      "Requirement already satisfied: sphinx>=5.1.0 in /usr/local/lib/python3.11/dist-packages (from sphinx-argparse<0.6.0,>=0.5.2->indic-nlp-library-itt->IndicTransToolkit==1.0.3) (8.2.3)\n",
      "Requirement already satisfied: docutils>=0.19 in /usr/local/lib/python3.11/dist-packages (from sphinx-argparse<0.6.0,>=0.5.2->indic-nlp-library-itt->IndicTransToolkit==1.0.3) (0.21.2)\n",
      "Collecting sphinxcontrib-jquery<5,>=4 (from sphinx-rtd-theme<4.0.0,>=3.0.2->indic-nlp-library-itt->IndicTransToolkit==1.0.3)\n",
      "  Downloading sphinxcontrib_jquery-4.1-py2.py3-none-any.whl.metadata (2.6 kB)\n",
      "Requirement already satisfied: MarkupSafe>=2.0 in /usr/local/lib/python3.11/dist-packages (from jinja2->torch->IndicTransToolkit==1.0.3) (3.0.2)\n",
      "Requirement already satisfied: charset-normalizer<4,>=2 in /usr/local/lib/python3.11/dist-packages (from requests->transformers->IndicTransToolkit==1.0.3) (3.4.2)\n",
      "Requirement already satisfied: idna<4,>=2.5 in /usr/local/lib/python3.11/dist-packages (from requests->transformers->IndicTransToolkit==1.0.3) (3.10)\n",
      "Requirement already satisfied: urllib3<3,>=1.21.1 in /usr/local/lib/python3.11/dist-packages (from requests->transformers->IndicTransToolkit==1.0.3) (2.4.0)\n",
      "Requirement already satisfied: certifi>=2017.4.17 in /usr/local/lib/python3.11/dist-packages (from requests->transformers->IndicTransToolkit==1.0.3) (2025.4.26)\n",
      "Requirement already satisfied: six>=1.5 in /usr/local/lib/python3.11/dist-packages (from python-dateutil>=2.8.2->pandas<3.0.0,>=2.2.3->indic-nlp-library-itt->IndicTransToolkit==1.0.3) (1.17.0)\n",
      "Requirement already satisfied: sphinxcontrib-applehelp>=1.0.7 in /usr/local/lib/python3.11/dist-packages (from sphinx>=5.1.0->sphinx-argparse<0.6.0,>=0.5.2->indic-nlp-library-itt->IndicTransToolkit==1.0.3) (2.0.0)\n",
      "Requirement already satisfied: sphinxcontrib-devhelp>=1.0.6 in /usr/local/lib/python3.11/dist-packages (from sphinx>=5.1.0->sphinx-argparse<0.6.0,>=0.5.2->indic-nlp-library-itt->IndicTransToolkit==1.0.3) (2.0.0)\n",
      "Requirement already satisfied: sphinxcontrib-htmlhelp>=2.0.6 in /usr/local/lib/python3.11/dist-packages (from sphinx>=5.1.0->sphinx-argparse<0.6.0,>=0.5.2->indic-nlp-library-itt->IndicTransToolkit==1.0.3) (2.1.0)\n",
      "Requirement already satisfied: sphinxcontrib-jsmath>=1.0.1 in /usr/local/lib/python3.11/dist-packages (from sphinx>=5.1.0->sphinx-argparse<0.6.0,>=0.5.2->indic-nlp-library-itt->IndicTransToolkit==1.0.3) (1.0.1)\n",
      "Requirement already satisfied: sphinxcontrib-qthelp>=1.0.6 in /usr/local/lib/python3.11/dist-packages (from sphinx>=5.1.0->sphinx-argparse<0.6.0,>=0.5.2->indic-nlp-library-itt->IndicTransToolkit==1.0.3) (2.0.0)\n",
      "Requirement already satisfied: sphinxcontrib-serializinghtml>=1.1.9 in /usr/local/lib/python3.11/dist-packages (from sphinx>=5.1.0->sphinx-argparse<0.6.0,>=0.5.2->indic-nlp-library-itt->IndicTransToolkit==1.0.3) (2.0.0)\n",
      "Requirement already satisfied: Pygments>=2.17 in /usr/local/lib/python3.11/dist-packages (from sphinx>=5.1.0->sphinx-argparse<0.6.0,>=0.5.2->indic-nlp-library-itt->IndicTransToolkit==1.0.3) (2.19.1)\n",
      "Requirement already satisfied: snowballstemmer>=2.2 in /usr/local/lib/python3.11/dist-packages (from sphinx>=5.1.0->sphinx-argparse<0.6.0,>=0.5.2->indic-nlp-library-itt->IndicTransToolkit==1.0.3) (3.0.1)\n",
      "Requirement already satisfied: babel>=2.13 in /usr/local/lib/python3.11/dist-packages (from sphinx>=5.1.0->sphinx-argparse<0.6.0,>=0.5.2->indic-nlp-library-itt->IndicTransToolkit==1.0.3) (2.17.0)\n",
      "Requirement already satisfied: alabaster>=0.7.14 in /usr/local/lib/python3.11/dist-packages (from sphinx>=5.1.0->sphinx-argparse<0.6.0,>=0.5.2->indic-nlp-library-itt->IndicTransToolkit==1.0.3) (1.0.0)\n",
      "Requirement already satisfied: imagesize>=1.3 in /usr/local/lib/python3.11/dist-packages (from sphinx>=5.1.0->sphinx-argparse<0.6.0,>=0.5.2->indic-nlp-library-itt->IndicTransToolkit==1.0.3) (1.4.1)\n",
      "Requirement already satisfied: roman-numerals-py>=1.0.0 in /usr/local/lib/python3.11/dist-packages (from sphinx>=5.1.0->sphinx-argparse<0.6.0,>=0.5.2->indic-nlp-library-itt->IndicTransToolkit==1.0.3) (3.1.0)\n",
      "Downloading indic_nlp_library_itt-0.1.0-py3-none-any.whl (54 kB)\n",
      "\u001b[2K   \u001b[90m━━━━━━━━━━━━━━━━━━━━━━━━━━━━━━━━━━━━━━━━\u001b[0m \u001b[32m54.0/54.0 kB\u001b[0m \u001b[31m5.3 MB/s\u001b[0m eta \u001b[36m0:00:00\u001b[0m\n",
      "\u001b[?25hDownloading sacrebleu-2.5.1-py3-none-any.whl (104 kB)\n",
      "\u001b[2K   \u001b[90m━━━━━━━━━━━━━━━━━━━━━━━━━━━━━━━━━━━━━━━━\u001b[0m \u001b[32m104.1/104.1 kB\u001b[0m \u001b[31m10.0 MB/s\u001b[0m eta \u001b[36m0:00:00\u001b[0m\n",
      "\u001b[?25hDownloading sacremoses-0.1.1-py3-none-any.whl (897 kB)\n",
      "\u001b[2K   \u001b[90m━━━━━━━━━━━━━━━━━━━━━━━━━━━━━━━━━━━━━━━━\u001b[0m \u001b[32m897.5/897.5 kB\u001b[0m \u001b[31m54.7 MB/s\u001b[0m eta \u001b[36m0:00:00\u001b[0m\n",
      "\u001b[?25hDownloading Morfessor-2.0.6-py3-none-any.whl (35 kB)\n",
      "Downloading numpy-2.2.6-cp311-cp311-manylinux_2_17_x86_64.manylinux2014_x86_64.whl (16.8 MB)\n",
      "\u001b[2K   \u001b[90m━━━━━━━━━━━━━━━━━━━━━━━━━━━━━━━━━━━━━━━━\u001b[0m \u001b[32m16.8/16.8 MB\u001b[0m \u001b[31m111.9 MB/s\u001b[0m eta \u001b[36m0:00:00\u001b[0m\n",
      "\u001b[?25hDownloading pandas-2.2.3-cp311-cp311-manylinux_2_17_x86_64.manylinux2014_x86_64.whl (13.1 MB)\n",
      "\u001b[2K   \u001b[90m━━━━━━━━━━━━━━━━━━━━━━━━━━━━━━━━━━━━━━━━\u001b[0m \u001b[32m13.1/13.1 MB\u001b[0m \u001b[31m111.4 MB/s\u001b[0m eta \u001b[36m0:00:00\u001b[0m\n",
      "\u001b[?25hDownloading sphinx_argparse-0.5.2-py3-none-any.whl (12 kB)\n",
      "Downloading sphinx_rtd_theme-3.0.2-py2.py3-none-any.whl (7.7 MB)\n",
      "\u001b[2K   \u001b[90m━━━━━━━━━━━━━━━━━━━━━━━━━━━━━━━━━━━━━━━━\u001b[0m \u001b[32m7.7/7.7 MB\u001b[0m \u001b[31m122.1 MB/s\u001b[0m eta \u001b[36m0:00:00\u001b[0m\n",
      "\u001b[?25hDownloading colorama-0.4.6-py2.py3-none-any.whl (25 kB)\n",
      "Downloading portalocker-3.1.1-py3-none-any.whl (19 kB)\n",
      "Downloading sphinxcontrib_jquery-4.1-py2.py3-none-any.whl (121 kB)\n",
      "\u001b[2K   \u001b[90m━━━━━━━━━━━━━━━━━━━━━━━━━━━━━━━━━━━━━━━━\u001b[0m \u001b[32m121.1/121.1 kB\u001b[0m \u001b[31m12.5 MB/s\u001b[0m eta \u001b[36m0:00:00\u001b[0m\n",
      "\u001b[?25hBuilding wheels for collected packages: IndicTransToolkit\n",
      "  Building wheel for IndicTransToolkit (pyproject.toml) ... \u001b[?25l\u001b[?25hdone\n",
      "  Created wheel for IndicTransToolkit: filename=indictranstoolkit-1.0.3-cp311-cp311-linux_x86_64.whl size=308208 sha256=6b4e0903d32c57aed73debbb4ebba8c8ce29968ed74ce9ed4f8191ffee2564c5\n",
      "  Stored in directory: /tmp/pip-ephem-wheel-cache-ghly32zr/wheels/b2/4c/32/e7dffc9954880e60c3653afa4c237b7c6751024ed318598f75\n",
      "Successfully built IndicTransToolkit\n",
      "Installing collected packages: morfessor, sacremoses, portalocker, numpy, colorama, sacrebleu, pandas, sphinxcontrib-jquery, sphinx-argparse, sphinx-rtd-theme, indic-nlp-library-itt, IndicTransToolkit\n",
      "  Attempting uninstall: numpy\n",
      "    Found existing installation: numpy 2.0.2\n",
      "    Uninstalling numpy-2.0.2:\n",
      "      Successfully uninstalled numpy-2.0.2\n",
      "  Attempting uninstall: pandas\n",
      "    Found existing installation: pandas 2.2.2\n",
      "    Uninstalling pandas-2.2.2:\n",
      "      Successfully uninstalled pandas-2.2.2\n",
      "\u001b[31mERROR: pip's dependency resolver does not currently take into account all the packages that are installed. This behaviour is the source of the following dependency conflicts.\n",
      "google-colab 1.0.0 requires pandas==2.2.2, but you have pandas 2.2.3 which is incompatible.\n",
      "tensorflow 2.18.0 requires numpy<2.1.0,>=1.26.0, but you have numpy 2.2.6 which is incompatible.\n",
      "numba 0.60.0 requires numpy<2.1,>=1.22, but you have numpy 2.2.6 which is incompatible.\u001b[0m\u001b[31m\n",
      "\u001b[0mSuccessfully installed IndicTransToolkit-1.0.3 colorama-0.4.6 indic-nlp-library-itt-0.1.0 morfessor-2.0.6 numpy-2.2.6 pandas-2.2.3 portalocker-3.1.1 sacrebleu-2.5.1 sacremoses-0.1.1 sphinx-argparse-0.5.2 sphinx-rtd-theme-3.0.2 sphinxcontrib-jquery-4.1\n"
     ]
    }
   ],
   "source": [
    "pip install git+https://github.com/VarunGumma/IndicTransToolkit.git"
   ]
  },
  {
   "cell_type": "code",
   "execution_count": null,
   "metadata": {
    "id": "xWzkQKm8BF1c"
   },
   "outputs": [],
   "source": [
    "import os\n",
    "import torch\n",
    "import fitz  # PyMuPDF\n",
    "from docx import Document\n",
    "from IndicTransToolkit.processor import IndicProcessor"
   ]
  },
  {
   "cell_type": "code",
   "execution_count": null,
   "metadata": {
    "colab": {
     "base_uri": "https://localhost:8080/",
     "height": 667,
     "referenced_widgets": [
      "06782a57af414f47a61bad39772e1a3b",
      "642df820285a452db13bb14a92dc04da",
      "16c13d01d9fb4d838c026db02495655c",
      "37c3201170084615a1d324ccaba87543",
      "b41c4290fceb44379d31509935805322",
      "04c74427f80c4cd79b9a789094f000bb",
      "c33f99a392284aeead023102014984a6",
      "8262cba417f9448bbd01480fa4c826c5",
      "97cf5acdfc7d4d058fa4fd1c6a0a8d45",
      "1e398b24da374f5793369aba51d54d6c",
      "151ad010dd61441f933ce4e59618f2e8",
      "b7471da23fd745759c021f43b7458a47",
      "05de50d9c447402ebb386c01744e3f8d",
      "db64faf6c1aa4083a45defd3076081b9",
      "3e09f5b6ba624e1e810adeaaf062e188",
      "bb7bcbe363304036a9203dfd9b136888",
      "7e89ae10634243998867d4f45a929ed7",
      "93597295f2e149c78206bfb41f606a1d",
      "ec3e015c1bf0466384397a513cd315c4",
      "847af9dd796c4d87ab322d588eea1a92",
      "dbae6b2f36f34c60ba94b1d7a7e32f82",
      "4a64399e4b2c46f0bafdf6808bf9c068",
      "ca364602f46841919f7cfd689ff1f0b1",
      "ece996f0dd9d429b9dbd57c11ee54b87",
      "a7211315788a445db289e9d218c7cac9",
      "9eabf428bf064bb988d439e17dbde23b",
      "288fd4e5509d4553b031584b358e57f9",
      "67fc9369a6f24953b9f2e619bdea8a25",
      "40ab96570b664626bff7684197e18117",
      "8d9b37b60b45491eab9bddddc4b906df",
      "74d7047e9c484abc9384f4749ef121a8",
      "8a1fd340a7e8472e8301d30ee3f99121",
      "8f3b2e441aff4ac7b0269fd4c47edbc8",
      "f53e42afdb924f2a937de4924e2ad962",
      "6e3e33e29658493c8ad62165921094d2",
      "093cc58d1eec436ba28901ffd6bc735f",
      "426f4933ce4f438690c9c0e882ac4b7b",
      "6e2d86988cb04477bf18eed809736649",
      "17f33c5f873849a388708cca19f452f0",
      "27b33609d1e14b3698b8c1f09f7aed09",
      "d0d56b8245c2483db153730f0c0e42bc",
      "65832c54b349406bb6f96c7f5a4d05ad",
      "50f819e82a96401eaa851f230a295b0f",
      "8105999248d64f1c87d69ec88857e150",
      "10fc0b946ddd489d937759b7b377b660",
      "d1affde77a9c46d7891e0fe064ee5686",
      "10cddffc111e44eb93c33d1db5378a23",
      "3f0dddd18ea84b33967b265dac8dba5b",
      "79bf427b512348f7bd23ce4e7daacbcb",
      "e34fd75bb49f4da795a88bcd5f873b61",
      "57a55392b12c4cf7b87939b205142425",
      "58ab3cd03cf840c4b713aac409ea5925",
      "4b3faff76b9d47049264866487ecf7a3",
      "6ca132a7467b48189c129ddae50c52a1",
      "65e34da74ab54e13abe7306b9208e400",
      "bf6997fc9ec648c78e241ff2c25a663c",
      "8ad483ee2e9c4ad78f4a321f8ce7d4f4",
      "f295c5825cda44169c2095ad7bb019e1",
      "3a5316a97f1446f5b25ac13477066eab",
      "a93a9fa17eaf4a0c8d3520890e2fbcbc",
      "b971e86e446d407a8261a1e098b5bae3",
      "5c401087bc9748e795a2de6974a04025",
      "3d52d9d2a8154e19a858cfa94f859ecf",
      "945f965cac634f1a9d5e95f208ee4870",
      "47c184130d1c47ee8ca96f5573da3949",
      "535b8b0f550d451684899163340d1f29",
      "ac722e70973e40b18a8f06a20863defd",
      "993b930353b74683b6981dcb0e78ae95",
      "8d6ecf64467a465ca1561c9a3b31417a",
      "c1049ab6486a4e0e95f82daa826aa168",
      "81d9c7c5a6614365a510dc9e0fd06979",
      "7efc3a8d401e4df28fe5cc71d628b0c3",
      "c1bf53ad9a12448a9335a4d19ea7317a",
      "603ebcc203bc4c32be9b0b3b27bb6dd6",
      "586a75e8bc9640b6be3c4c82dfd7fa4e",
      "c7f9d6be11b14dfeb03af4dac2766deb",
      "f7940ed36bbf4b448c3691ab6c9a5c5b",
      "b44ecce2e6af43369c6c1af3019413ec",
      "437b2452fbd1484cb6cdc37d59820f25",
      "7e1ad925eae6460d83c8d423225e84f7",
      "21387a38013a447a8beb6e422dd8e513",
      "2162520115844b12b9571498459a11a9",
      "d48b8a139da64c3c89333eeb75662717",
      "8d6af2b18ce748c08616055fc1afc33c",
      "1b8153a72d2e42f8aa506aeb2857ebac",
      "22cfa4c89c6241b5b261db1f5c2fcc5b",
      "6c79754700394406b0d2838979574131",
      "0208faf880dc43f782c5e0a91dd0fe42",
      "7fb3ab3b4b5840d8b5866604e43a6c27",
      "c0a9457add1b441390eca197df9c0d2e",
      "7ce7a1a19c2a42ad99239bbcbfc434d3",
      "1b8909d5e8a74b37b5bb2b9e1c27ab6e",
      "40722aa73aee463f8c2fccd0d0193da7",
      "7bc97e66f72d49208a7442873b815bbd",
      "fb7df8ebf1da458d88f02583e6e3f22a",
      "9b60a9eb4b5443ccad00d5f6db59ddfb",
      "86308a486cd64f3d95169a000315c75d",
      "241c8815657940d5a284286078c6f002",
      "0ab63c5bc6704ef19252706598dfd714",
      "349a5203c83942d797e154570e7575e3",
      "a22d168c5c774cd1ad49d54eda1f89be",
      "6a02003aad714f40aba0dd3b513eb6f5",
      "bddf5d8a9ad346dc8a7ec06d83bd8253",
      "b437ca4c23b34ef78af9920262d51172",
      "afe8cbc2b84342a8a8a92beaa290e072",
      "a96f6efbf38040d5990abcc23c830d06",
      "ef4c52318343478c87da70ba839858a4",
      "8cf3a56e33ae49e1a461c8bfdbd3a262",
      "5006b5c25bd14c11bd99cea0328f3113",
      "1358268e0ee34306bb5b791816cf2ede",
      "e6c23f5e201d4466852a44ce302820c1",
      "fba4bc05f01e4356a5bcb407061503a0",
      "197383476cac416b8a6f9910eb7859fc",
      "fb8ad64bf5b9487289035a7ff46a391e",
      "a8951b846d634ec1bbc4af866b376f5d",
      "b3de3bd2a42a43dc9da26c77cc80958c",
      "231574a7e79d4304b9287d5bb96ac33f",
      "c8101f25c9254135a680a918ac9195c8",
      "7ada9d853dc346a98dc8d2d364acfd9c",
      "f551d237b575400b85e6e39d5c61f8c3",
      "a102e1f7acfe489a873274a6ca9c76b5"
     ]
    },
    "id": "-sdKJgInBLYU",
    "outputId": "08b9fd33-d2e2-4551-aacd-ba213ca5dee0"
   },
   "outputs": [
    {
     "name": "stderr",
     "output_type": "stream",
     "text": [
      "/usr/local/lib/python3.11/dist-packages/huggingface_hub/utils/_auth.py:94: UserWarning: \n",
      "The secret `HF_TOKEN` does not exist in your Colab secrets.\n",
      "To authenticate with the Hugging Face Hub, create a token in your settings tab (https://huggingface.co/settings/tokens), set it as secret in your Google Colab and restart your session.\n",
      "You will be able to reuse this secret in all of your notebooks.\n",
      "Please note that authentication is recommended but still optional to access public models or datasets.\n",
      "  warnings.warn(\n"
     ]
    },
    {
     "data": {
      "application/vnd.jupyter.widget-view+json": {
       "model_id": "06782a57af414f47a61bad39772e1a3b",
       "version_major": 2,
       "version_minor": 0
      },
      "text/plain": [
       "tokenizer_config.json:   0%|          | 0.00/1.11k [00:00<?, ?B/s]"
      ]
     },
     "metadata": {},
     "output_type": "display_data"
    },
    {
     "data": {
      "application/vnd.jupyter.widget-view+json": {
       "model_id": "b7471da23fd745759c021f43b7458a47",
       "version_major": 2,
       "version_minor": 0
      },
      "text/plain": [
       "tokenization_indictrans.py:   0%|          | 0.00/8.04k [00:00<?, ?B/s]"
      ]
     },
     "metadata": {},
     "output_type": "display_data"
    },
    {
     "name": "stderr",
     "output_type": "stream",
     "text": [
      "A new version of the following files was downloaded from https://huggingface.co/prajdabre/rotary-indictrans2-en-indic-dist-200M:\n",
      "- tokenization_indictrans.py\n",
      ". Make sure to double-check they do not contain any added malicious code. To avoid downloading new versions of the code file, you can pin a revision.\n"
     ]
    },
    {
     "data": {
      "application/vnd.jupyter.widget-view+json": {
       "model_id": "ca364602f46841919f7cfd689ff1f0b1",
       "version_major": 2,
       "version_minor": 0
      },
      "text/plain": [
       "dict.SRC.json:   0%|          | 0.00/645k [00:00<?, ?B/s]"
      ]
     },
     "metadata": {},
     "output_type": "display_data"
    },
    {
     "data": {
      "application/vnd.jupyter.widget-view+json": {
       "model_id": "f53e42afdb924f2a937de4924e2ad962",
       "version_major": 2,
       "version_minor": 0
      },
      "text/plain": [
       "dict.TGT.json:   0%|          | 0.00/3.39M [00:00<?, ?B/s]"
      ]
     },
     "metadata": {},
     "output_type": "display_data"
    },
    {
     "data": {
      "application/vnd.jupyter.widget-view+json": {
       "model_id": "10fc0b946ddd489d937759b7b377b660",
       "version_major": 2,
       "version_minor": 0
      },
      "text/plain": [
       "model.SRC:   0%|          | 0.00/759k [00:00<?, ?B/s]"
      ]
     },
     "metadata": {},
     "output_type": "display_data"
    },
    {
     "data": {
      "application/vnd.jupyter.widget-view+json": {
       "model_id": "bf6997fc9ec648c78e241ff2c25a663c",
       "version_major": 2,
       "version_minor": 0
      },
      "text/plain": [
       "model.TGT:   0%|          | 0.00/3.26M [00:00<?, ?B/s]"
      ]
     },
     "metadata": {},
     "output_type": "display_data"
    },
    {
     "data": {
      "application/vnd.jupyter.widget-view+json": {
       "model_id": "ac722e70973e40b18a8f06a20863defd",
       "version_major": 2,
       "version_minor": 0
      },
      "text/plain": [
       "special_tokens_map.json:   0%|          | 0.00/96.0 [00:00<?, ?B/s]"
      ]
     },
     "metadata": {},
     "output_type": "display_data"
    },
    {
     "data": {
      "application/vnd.jupyter.widget-view+json": {
       "model_id": "b44ecce2e6af43369c6c1af3019413ec",
       "version_major": 2,
       "version_minor": 0
      },
      "text/plain": [
       "config.json:   0%|          | 0.00/1.46k [00:00<?, ?B/s]"
      ]
     },
     "metadata": {},
     "output_type": "display_data"
    },
    {
     "data": {
      "application/vnd.jupyter.widget-view+json": {
       "model_id": "7fb3ab3b4b5840d8b5866604e43a6c27",
       "version_major": 2,
       "version_minor": 0
      },
      "text/plain": [
       "configuration_rotary_indictrans.py:   0%|          | 0.00/6.56k [00:00<?, ?B/s]"
      ]
     },
     "metadata": {},
     "output_type": "display_data"
    },
    {
     "name": "stderr",
     "output_type": "stream",
     "text": [
      "A new version of the following files was downloaded from https://huggingface.co/prajdabre/rotary-indictrans2-en-indic-dist-200M:\n",
      "- configuration_rotary_indictrans.py\n",
      ". Make sure to double-check they do not contain any added malicious code. To avoid downloading new versions of the code file, you can pin a revision.\n"
     ]
    },
    {
     "data": {
      "application/vnd.jupyter.widget-view+json": {
       "model_id": "349a5203c83942d797e154570e7575e3",
       "version_major": 2,
       "version_minor": 0
      },
      "text/plain": [
       "modeling_rotary_indictrans.py:   0%|          | 0.00/68.6k [00:00<?, ?B/s]"
      ]
     },
     "metadata": {},
     "output_type": "display_data"
    },
    {
     "name": "stderr",
     "output_type": "stream",
     "text": [
      "A new version of the following files was downloaded from https://huggingface.co/prajdabre/rotary-indictrans2-en-indic-dist-200M:\n",
      "- modeling_rotary_indictrans.py\n",
      ". Make sure to double-check they do not contain any added malicious code. To avoid downloading new versions of the code file, you can pin a revision.\n",
      "WARNING:transformers_modules.prajdabre.rotary-indictrans2-en-indic-dist-200M.23249dd48107a6207a4ac1fba62789c884458f0f.modeling_rotary_indictrans:It is highly recommended to use `flash_attention_2` for better performance with RotaryIndicTrans.Falling back to the default `eager` implementation.\n"
     ]
    },
    {
     "data": {
      "application/vnd.jupyter.widget-view+json": {
       "model_id": "e6c23f5e201d4466852a44ce302820c1",
       "version_major": 2,
       "version_minor": 0
      },
      "text/plain": [
       "pytorch_model.bin:   0%|          | 0.00/847M [00:00<?, ?B/s]"
      ]
     },
     "metadata": {},
     "output_type": "display_data"
    }
   ],
   "source": [
    "# Model Setup\n",
    "device = \"cuda\" if torch.cuda.is_available() else \"cpu\"\n",
    "model_name = \"prajdabre/rotary-indictrans2-en-indic-dist-200M\"\n",
    "\n",
    "ip = IndicProcessor(inference=True)\n",
    "tokenizer = AutoTokenizer.from_pretrained(model_name, trust_remote_code=True)\n",
    "model = AutoModelForSeq2SeqLM.from_pretrained(\n",
    "    model_name,\n",
    "    torch_dtype=torch.float16 if torch.cuda.is_available() else torch.float32,\n",
    "    trust_remote_code=True,\n",
    ").to(device)\n",
    "LANG_TAGS = {\n",
    "    \"hi\": \"hin_Deva\", #Hindi\n",
    "    \"mr\": \"mar_Deva\", # Marathi\n",
    "    \"kn\": \"kan_Knda\", #Kannada\n",
    "    \"ml\": \"mal_Mlym\", #Malyalam\n",
    "    \"te\": \"tel_Telu\", # Telgu\n",
    "    \"gu\": \"guj_Gujr\",   # Gujarati\n",
    "    \"pa\": \"pan_Guru\" ,      # Punjabi\n",
    "    \"ta\": \"tam_Taml\"       # Tamil\n",
    "}"
   ]
  },
  {
   "cell_type": "code",
   "execution_count": null,
   "metadata": {
    "colab": {
     "background_save": true
    },
    "id": "qpcVYwyKBPmz"
   },
   "outputs": [],
   "source": [
    "# Translation Function\n",
    "def translate_text_rotary(text, target_lang_code):\n",
    "    tgt_tag = LANG_TAGS.get(target_lang_code)\n",
    "    if not tgt_tag:\n",
    "        raise ValueError(f\"Unsupported language code: {target_lang_code}\")\n",
    "\n",
    "    batch = ip.preprocess_batch([text], src_lang=\"eng_Latn\", tgt_lang=tgt_tag)\n",
    "    inputs = tokenizer(batch, padding=\"longest\", truncation=True, max_length=2048, return_tensors=\"pt\").to(device)\n",
    "\n",
    "    with torch.inference_mode():\n",
    "        outputs = model.generate(\n",
    "            **inputs,\n",
    "            num_beams=10,\n",
    "            length_penalty=1.5,\n",
    "            repetition_penalty=2.0,\n",
    "            num_return_sequences=1,\n",
    "            max_new_tokens=2048,\n",
    "            early_stopping=True\n",
    "        )\n",
    "\n",
    "    decoded = tokenizer.batch_decode(outputs, skip_special_tokens=True, clean_up_tokenization_spaces=True)\n",
    "    translated = ip.postprocess_batch(decoded, lang=tgt_tag)\n",
    "    return translated[0]"
   ]
  },
  {
   "cell_type": "code",
   "execution_count": null,
   "metadata": {
    "colab": {
     "background_save": true
    },
    "id": "hF8icc1UBSNM"
   },
   "outputs": [],
   "source": [
    "# DOCX Handler\n",
    "def translate_docx(input_path, output_path, lang_code):\n",
    "    doc = Document(input_path)\n",
    "    new_doc = Document()\n",
    "\n",
    "    for para in doc.paragraphs:\n",
    "        text = para.text.strip()\n",
    "        translated = translate_text_rotary(text, lang_code) if text else \"\"\n",
    "        new_doc.add_paragraph(translated)\n",
    "\n",
    "    new_doc.save(output_path)"
   ]
  },
  {
   "cell_type": "code",
   "execution_count": null,
   "metadata": {
    "colab": {
     "background_save": true
    },
    "id": "wcZkT_0OBUgB"
   },
   "outputs": [],
   "source": [
    "# PDF Handler\n",
    "def translate_pdf(input_path, output_path, lang_code):\n",
    "    doc = fitz.open(input_path)\n",
    "    new_doc = fitz.open()\n",
    "\n",
    "    for page in doc:\n",
    "        text = page.get_text()\n",
    "        translated = translate_text_rotary(text, lang_code)\n",
    "        new_page = new_doc.new_page(width=page.rect.width, height=page.rect.height)\n",
    "        new_page.insert_text((72, 72), translated, fontsize=12)\n",
    "\n",
    "    new_doc.save(output_path)"
   ]
  },
  {
   "cell_type": "code",
   "execution_count": null,
   "metadata": {
    "colab": {
     "background_save": true
    },
    "id": "IHElVbTWASfM"
   },
   "outputs": [],
   "source": [
    "# Main Handler\n",
    "def translate_document(input_path, lang_code):\n",
    "    file_ext = os.path.splitext(input_path)[1].lower()\n",
    "    output_path = input_path.replace(\".\", f\"_translated_{lang_code}.\")\n",
    "\n",
    "    if file_ext == \".docx\":\n",
    "        translate_docx(input_path, output_path, lang_code)\n",
    "    elif file_ext == \".pdf\":\n",
    "        translate_pdf(input_path, output_path, lang_code)\n",
    "    else:\n",
    "        raise ValueError(\"Unsupported file type. Only .docx and .pdf are allowed.\")\n",
    "\n",
    "    return output_path"
   ]
  },
  {
   "cell_type": "code",
   "execution_count": null,
   "metadata": {
    "id": "qayMSUEUQmTg"
   },
   "outputs": [],
   "source": [
    "!pip install bert-score"
   ]
  },
  {
   "cell_type": "code",
   "execution_count": null,
   "metadata": {
    "id": "IclDPZfAQe-G"
   },
   "outputs": [],
   "source": [
    "from bert_score import score\n",
    "\n",
    "def evaluate_translation(original_texts, translated_texts, lang_code):\n",
    "    min_len = min(len(original_texts), len(translated_texts))\n",
    "    refs = original_texts[:min_len]\n",
    "    hyps = translated_texts[:min_len]\n",
    "\n",
    "    P, R, F1 = score(hyps, refs, lang=lang_code, model_type=\"xlm-roberta-large\")\n",
    "\n",
    "    print(f\"\\n✅ BERTScore Evaluation (lang: {lang_code})\")\n",
    "    print(f\"Average Precision: {P.mean().item():.4f}\")\n",
    "    print(f\"Average Recall:    {R.mean().item():.4f}\")\n",
    "    print(f\"Average F1 Score:  {F1.mean().item():.4f}\")"
   ]
  },
  {
   "cell_type": "code",
   "execution_count": null,
   "metadata": {
    "id": "AhyfRK7ORMRt"
   },
   "outputs": [],
   "source": [
    "from docx import Document\n",
    "import fitz\n",
    "\n",
    "def extract_text_docx(path):\n",
    "    doc = Document(path)\n",
    "    return [p.text.strip() for p in doc.paragraphs if p.text.strip()]\n",
    "\n",
    "def extract_text_pdf(path):\n",
    "    doc = fitz.open(path)\n",
    "    return [page.get_text().strip() for page in doc if page.get_text().strip()]"
   ]
  },
  {
   "cell_type": "markdown",
   "metadata": {
    "id": "7in2jpIPn2ff"
   },
   "source": [
    "# UI"
   ]
  },
  {
   "cell_type": "code",
   "execution_count": null,
   "metadata": {
    "id": "k2fp8kw_AwzG"
   },
   "outputs": [],
   "source": [
    "!pip install gradio"
   ]
  },
  {
   "cell_type": "code",
   "execution_count": null,
   "metadata": {
    "id": "fHqf-jnHpzRm"
   },
   "outputs": [],
   "source": [
    "import gradio as gr\n",
    "import os\n",
    "from docx import Document\n",
    "import fitz  # PyMuPDF\n",
    "\n",
    "# Language options\n",
    "LANGUAGE_OPTIONS = {\n",
    "    \"Hindi (हिंदी)\": \"hi\",\n",
    "    \"Marathi (मराठी)\": \"mr\",\n",
    "    \"Kannada (ಕನ್ನಡ)\": \"kn\",\n",
    "    \"Malayalam (മലയാളം)\": \"ml\",\n",
    "    \"Telugu (తెలుగు)\": \"te\",\n",
    "    \"Gujarati (ગુજરાતી)\": \"gu\",\n",
    "    \"Punjabi (ਪੰਜਾਬੀ)\": \"pa\",\n",
    "    \"Tamil (தமிழ்)\": \"ta\"\n",
    "}\n",
    "# Main translation logic\n",
    "def gradio_translate_with_preview(file, language_label):\n",
    "    if file is None:\n",
    "        return \"❌ No file uploaded.\", None\n",
    "\n",
    "    lang_code = LANGUAGE_OPTIONS.get(language_label)\n",
    "    file_ext = os.path.splitext(file)[1].lower()\n",
    "\n",
    "    if file_ext not in [\".docx\", \".pdf\"]:\n",
    "        return \"❌ Please upload a .docx or .pdf file.\", None\n",
    "\n",
    "    try:\n",
    "        if file_ext == \".docx\":\n",
    "            doc = Document(file)\n",
    "            text = \"\\n\".join([para.text.strip() for para in doc.paragraphs if para.text.strip()])\n",
    "        elif file_ext == \".pdf\":\n",
    "            doc = fitz.open(file)\n",
    "            text = \"\\n\".join([page.get_text() for page in doc])\n",
    "        else:\n",
    "            return \"❌ Unsupported file type.\", None\n",
    "\n",
    "        translated_text = translate_text_rotary(text, lang_code)\n",
    "        translated_file = translate_document(file, lang_code)\n",
    "\n",
    "        return translated_text, translated_file\n",
    "\n",
    "    except Exception as e:\n",
    "        return f\"❌ Error: {str(e)}\", None"
   ]
  },
  {
   "cell_type": "code",
   "execution_count": null,
   "metadata": {
    "id": "RK_JFYFvKKhs"
   },
   "outputs": [],
   "source": [
    "import gradio as gr\n",
    "\n",
    "with gr.Blocks(css=\"\"\"\n",
    "    #side-panel {\n",
    "        background-color: #f0f0f0;\n",
    "        padding: 20px;\n",
    "        min-height: 100vh;\n",
    "        border-right: 1px solid #ccc;\n",
    "    }\n",
    "    #main-panel {\n",
    "        padding: 20px;\n",
    "    }\n",
    "    footer {visibility: hidden;}\n",
    "    .custom-btn {\n",
    "        background-color: #AFA939 !important;\n",
    "        color: white !important;\n",
    "        border: none;\n",
    "        border-radius: 8px;\n",
    "        padding: 8px 16px;\n",
    "        font-weight: bold;\n",
    "        cursor: pointer;\n",
    "    }\n",
    "    .custom-btn:hover {\n",
    "        background-color: #999932 !important;\n",
    "    }\n",
    "\"\"\", title=\"Legal Document Translator\") as demo:\n",
    "\n",
    "    with gr.Row():\n",
    "        # SIDE PANEL\n",
    "        with gr.Column(scale=2, elem_id=\"side-panel\"):\n",
    "            gr.Markdown(\"## 📄 Legal Document Translator\")\n",
    "            gr.Markdown(\n",
    "                \"📘 **How to Use:**  \\n\"\n",
    "                \"1. 📤 Upload an English `.docx` or `.pdf` legal document.  \\n\"\n",
    "                \"2. 🌐 Select your target Indic language.  \\n\"\n",
    "                \"3. ⏳ Wait for the preview and download your translated file.\"\n",
    "            )\n",
    "            file_input = gr.File(label=\"📤 Upload .docx or .pdf File\", type=\"filepath\", file_types=[\".pdf\", \".docx\"])\n",
    "            language_input = gr.Dropdown(\n",
    "                choices=list(LANGUAGE_OPTIONS.keys()),\n",
    "                label=\"🌐 Select Target Language\",\n",
    "                value=\"Hindi (हिंदी)\"\n",
    "            )\n",
    "            with gr.Row():\n",
    "                clear_btn = gr.Button(\"🔄 Clear\", elem_classes=\"custom-btn\")\n",
    "                submit_btn = gr.Button(\"🚀 Translate\", elem_classes=\"custom-btn\")\n",
    "\n",
    "            gr.Markdown(\n",
    "                \"🔍 _Translation powered by [`rotary-indictrans2-en-indic-dist-200M`](https://huggingface.co/prajdabre/rotary-indictrans2-en-indic-dist-200M)._  \\n\"\n",
    "                \"📖 If you use this app or model, please cite: Gumma et al., NAACL 2025. \"\n",
    "                \"[Read Paper](https://aclanthology.org/2025.naacl-long.366/)\"\n",
    "            )\n",
    "\n",
    "        # MAIN PANEL\n",
    "        with gr.Column(scale=3, elem_id=\"main-panel\"):\n",
    "            gr.Markdown(\"⚠️ **Note:** Translating documents may take longer due to size and available computational resources (CPU/RAM).\")\n",
    "\n",
    "            with gr.Column():\n",
    "                translated_output = gr.Textbox(label=\"📝 Translated Text Preview\", lines=15, max_lines=30, interactive=False)\n",
    "\n",
    "            download_output = gr.File(label=\"📥 Download Translated File\")\n",
    "\n",
    "            gr.Markdown(\"---\")\n",
    "            gr.Markdown(\"📌 *Disclaimer: This tool uses AI-based translation. Review carefully before legal use. For educational purposes only.*\")\n",
    "\n",
    "    # Button callbacks\n",
    "    submit_btn.click(\n",
    "        fn=gradio_translate_with_preview,\n",
    "        inputs=[file_input, language_input],\n",
    "        outputs=[translated_output, download_output]\n",
    "    )\n",
    "\n",
    "    clear_btn.click(\n",
    "        fn=lambda: (\"\", None),\n",
    "        inputs=[],\n",
    "        outputs=[translated_output, download_output]\n",
    "    )\n",
    "\n",
    "demo.launch()"
   ]
  },
  {
   "cell_type": "markdown",
   "metadata": {
    "id": "quPTqHcxSB33"
   },
   "source": [
    "### 🔗 IMPORTANT: Gradio Link for Website\n",
    "\n",
    "After running this notebook, Gradio will generate a **new public link** (e.g., `https://xyz123.gradio.live`).\n",
    "\n",
    "📌 Please follow these steps:\n",
    "\n",
    "1. **Copy the public Gradio link** shown in the output after `launch()` (usually something like `https://abc123.gradio.live`)\n",
    "2. **Open your `index.html` file** inside the `Verdict AI UI\\templates ` folder\n",
    "3. Replace the old link for this feature with the new one using the following format:\n",
    "\n",
    "```html\n",
    "<!-- Example -->\n",
    "<a href=\"https://new-chatbot-link.gradio.live\" target=\"_blank\">Open Legal Document Translator</a>\n"
   ]
  },
  {
   "cell_type": "markdown",
   "metadata": {
    "id": "uxWR3zl7PazB"
   },
   "source": [
    "# Evaluation"
   ]
  },
  {
   "cell_type": "markdown",
   "metadata": {
    "id": "pkp1R8RCRltO"
   },
   "source": [
    "## Hindi"
   ]
  },
  {
   "cell_type": "code",
   "execution_count": null,
   "metadata": {
    "colab": {
     "base_uri": "https://localhost:8080/"
    },
    "executionInfo": {
     "elapsed": 86940,
     "status": "ok",
     "timestamp": 1748341455481,
     "user": {
      "displayName": "Sapna Girme",
      "userId": "14803278953583791113"
     },
     "user_tz": -330
    },
    "id": "IVWkWk6kAhUZ",
    "outputId": "441f7f50-eb32-47fa-fdce-60694b4a6b52"
   },
   "outputs": [
    {
     "name": "stdout",
     "output_type": "stream",
     "text": [
      "Translated file saved at: /content/Legal_Notice_Rent_English_translated_hi.docx\n"
     ]
    }
   ],
   "source": [
    "input_file = \"/content/Legal_Notice_Rent_English.docx\"\n",
    "lang_code = \"hi\"  # Hindi\n",
    "\n",
    "Hindi_file = translate_document(input_file, lang_code)\n",
    "print(f\"Translated file saved at: {Hindi_file}\")"
   ]
  },
  {
   "cell_type": "code",
   "execution_count": null,
   "metadata": {
    "colab": {
     "base_uri": "https://localhost:8080/",
     "height": 318,
     "referenced_widgets": [
      "5b1f3aa0ac1e447aad775631df559134",
      "fcd02eff61024b24bc76b89462eed103",
      "66b94e151483481985a5a4e0d7ce1021",
      "fd4b41278c5d4684a3895a890678834c",
      "d7948ec8af2c418cbfa33362e9794fed",
      "14d9244b8d564d42bf18aee238b2e08c",
      "aebadf68614444eb9c9a8dedda45db21",
      "b99a17a6dcd9432e849b398a9d2473ea",
      "4b9c484df17d4d1c8dc54ce9192c1151",
      "97df12b951ea420b9d44209adc5c420d",
      "8196a5d7340a426d8630744322acafa7",
      "2dc225a180d84b539297725ddef4459f",
      "1bc2410df0b945bf8e7e10bc1f9cba7e",
      "e7ea4c41ed034f12be01f3c3fa2c8736",
      "9cc386a42aec4e41badb2f4097acd37b",
      "9a9aff260d6646dc93ce249810c90056",
      "0122f5863f0d443ca4e632980dc37349",
      "c3c7f3b478a44d5ba33505d58a079c0e",
      "98fa3065c4c44a1fb43340b242411983",
      "6d88a5c342d149aabd5b4a8c53b771b0",
      "1ac3b5af950c481ca6f36bbc8726e02c",
      "317e132487fb45b3afbc9c4ad6ef67f0",
      "6403537ebafd4371bbd8a9c18c0d9efd",
      "28b9866b9ba24eba8b2575f540e56238",
      "ae012f65aee341e38e8948905abf3f86",
      "c2abba7fd0a74e4b9f88bad33d9ed6b3",
      "8d1b27bb209e4cbfa529dabbaa87f005",
      "ce307055cb1d4df6bd7ceac381977426",
      "b5cf35e39be44da292ab169067c08249",
      "6053b2802f6c4acdbb68a940d5b63ba8",
      "fe2e4428d1cd43d7a94a3488cd448be7",
      "8c99cf9b2306408e8a224a3a42bdcda2",
      "85cf2eb993c74002b8d7f50668a18b60",
      "7d939f99e0f74d1da37c1e1017dc86f7",
      "1315a1331ccf499cb76dc1c82d031628",
      "d58701871e3f421abf3b331579090336",
      "fdddac3a2b314ecd87f02a3908e4432e",
      "2527536ad515468dbf8ce178fc44bf7e",
      "5e6b21d0280b428eaa9a6954188e5cf8",
      "bdbf80d29f094920ae3d67de1ef44bcf",
      "f1dd70d91b4b4d4c9f851a78cc51641b",
      "3e5ee5014da24592a3340c9119a92d6f",
      "bc74ff38c008416699d313039f746375",
      "200acb14aad94c8a8ab54a05e8942543",
      "61ef2a5427f04e7c986742d1e6a284e1",
      "ae3b6081a3ac4e3d95a1edf7065ff917",
      "c828ae4f0cf8400cb30998121eef2a88",
      "b3643430968c4bd6b753cb57a362f60a",
      "f6a81be871d24366a000f51ce5494f47",
      "7df90b5e574445ba8368970cab29b5d2",
      "af84e966f27b4f0799b023fe72f7948e",
      "629b54c86de5407cacbabbf041569403",
      "2ebdc15e11dd4a5ca36890d08c42811e",
      "ee1b7a14dd994e79be048363118a84b7",
      "d5781197ec3a46d6915341008f8dbfb1"
     ]
    },
    "executionInfo": {
     "elapsed": 62877,
     "status": "ok",
     "timestamp": 1748341544262,
     "user": {
      "displayName": "Sapna Girme",
      "userId": "14803278953583791113"
     },
     "user_tz": -330
    },
    "id": "xVjREBjAQVzx",
    "outputId": "5ce50042-c66b-4d8f-a5a9-7501cec81a71"
   },
   "outputs": [
    {
     "data": {
      "application/vnd.jupyter.widget-view+json": {
       "model_id": "5b1f3aa0ac1e447aad775631df559134",
       "version_major": 2,
       "version_minor": 0
      },
      "text/plain": [
       "tokenizer_config.json:   0%|          | 0.00/25.0 [00:00<?, ?B/s]"
      ]
     },
     "metadata": {},
     "output_type": "display_data"
    },
    {
     "data": {
      "application/vnd.jupyter.widget-view+json": {
       "model_id": "2dc225a180d84b539297725ddef4459f",
       "version_major": 2,
       "version_minor": 0
      },
      "text/plain": [
       "config.json:   0%|          | 0.00/616 [00:00<?, ?B/s]"
      ]
     },
     "metadata": {},
     "output_type": "display_data"
    },
    {
     "data": {
      "application/vnd.jupyter.widget-view+json": {
       "model_id": "6403537ebafd4371bbd8a9c18c0d9efd",
       "version_major": 2,
       "version_minor": 0
      },
      "text/plain": [
       "sentencepiece.bpe.model:   0%|          | 0.00/5.07M [00:00<?, ?B/s]"
      ]
     },
     "metadata": {},
     "output_type": "display_data"
    },
    {
     "data": {
      "application/vnd.jupyter.widget-view+json": {
       "model_id": "7d939f99e0f74d1da37c1e1017dc86f7",
       "version_major": 2,
       "version_minor": 0
      },
      "text/plain": [
       "tokenizer.json:   0%|          | 0.00/9.10M [00:00<?, ?B/s]"
      ]
     },
     "metadata": {},
     "output_type": "display_data"
    },
    {
     "name": "stderr",
     "output_type": "stream",
     "text": [
      "Xet Storage is enabled for this repo, but the 'hf_xet' package is not installed. Falling back to regular HTTP download. For better performance, install the package with: `pip install huggingface_hub[hf_xet]` or `pip install hf_xet`\n",
      "WARNING:huggingface_hub.file_download:Xet Storage is enabled for this repo, but the 'hf_xet' package is not installed. Falling back to regular HTTP download. For better performance, install the package with: `pip install huggingface_hub[hf_xet]` or `pip install hf_xet`\n"
     ]
    },
    {
     "data": {
      "application/vnd.jupyter.widget-view+json": {
       "model_id": "61ef2a5427f04e7c986742d1e6a284e1",
       "version_major": 2,
       "version_minor": 0
      },
      "text/plain": [
       "model.safetensors:   0%|          | 0.00/2.24G [00:00<?, ?B/s]"
      ]
     },
     "metadata": {},
     "output_type": "display_data"
    },
    {
     "name": "stdout",
     "output_type": "stream",
     "text": [
      "\n",
      "✅ BERTScore Evaluation (lang: hi)\n",
      "Average Precision: 0.8917\n",
      "Average Recall:    0.8992\n",
      "Average F1 Score:  0.8954\n"
     ]
    }
   ],
   "source": [
    "original_file = \"/content/Legal_Notice_Rent_English.docx\"\n",
    "translated_file = \"/content/Legal_Notice_Rent_English_translated_hi.docx\"\n",
    "\n",
    "original_text = extract_text_docx(original_file)\n",
    "translated_text = extract_text_docx(translated_file)\n",
    "\n",
    "evaluate_translation(original_text, translated_text, lang_code=\"hi\")"
   ]
  },
  {
   "cell_type": "markdown",
   "metadata": {
    "id": "Wtk8qEJ9SjFm"
   },
   "source": [
    "## Marathi"
   ]
  },
  {
   "cell_type": "code",
   "execution_count": null,
   "metadata": {
    "colab": {
     "base_uri": "https://localhost:8080/"
    },
    "executionInfo": {
     "elapsed": 88755,
     "status": "ok",
     "timestamp": 1748342180241,
     "user": {
      "displayName": "Sapna Girme",
      "userId": "14803278953583791113"
     },
     "user_tz": -330
    },
    "id": "M6NzHhH5SCGG",
    "outputId": "4121a799-380d-4023-9098-7f37d4f645d3"
   },
   "outputs": [
    {
     "name": "stdout",
     "output_type": "stream",
     "text": [
      "Translated file saved at: /content/Legal_Notice_Rent_English_translated_mr.docx\n"
     ]
    }
   ],
   "source": [
    "input_file = \"/content/Legal_Notice_Rent_English.docx\"\n",
    "lang_code = \"mr\"  # Marathi\n",
    "\n",
    "Marathi_file = translate_document(input_file, lang_code)\n",
    "print(f\"Translated file saved at: {Marathi_file}\")"
   ]
  },
  {
   "cell_type": "code",
   "execution_count": null,
   "metadata": {
    "colab": {
     "base_uri": "https://localhost:8080/"
    },
    "executionInfo": {
     "elapsed": 21819,
     "status": "ok",
     "timestamp": 1748342218982,
     "user": {
      "displayName": "Sapna Girme",
      "userId": "14803278953583791113"
     },
     "user_tz": -330
    },
    "id": "WpLptsL2TkVf",
    "outputId": "db1656b3-b9c5-4156-f5d6-8f013c341bba"
   },
   "outputs": [
    {
     "name": "stdout",
     "output_type": "stream",
     "text": [
      "\n",
      "✅ BERTScore Evaluation (lang: mr)\n",
      "Average Precision: 0.8756\n",
      "Average Recall:    0.8858\n",
      "Average F1 Score:  0.8807\n"
     ]
    }
   ],
   "source": [
    "original_file = \"/content/Legal_Notice_Rent_English.docx\"\n",
    "translated_file = \"/content/Legal_Notice_Rent_English_translated_mr.docx\"\n",
    "\n",
    "original_text = extract_text_docx(original_file)\n",
    "translated_text = extract_text_docx(translated_file)\n",
    "\n",
    "evaluate_translation(original_text, translated_text, lang_code=\"mr\")"
   ]
  },
  {
   "cell_type": "markdown",
   "metadata": {
    "id": "CyzkNCuASuOr"
   },
   "source": [
    "## kannada"
   ]
  },
  {
   "cell_type": "code",
   "execution_count": null,
   "metadata": {
    "colab": {
     "base_uri": "https://localhost:8080/"
    },
    "executionInfo": {
     "elapsed": 83469,
     "status": "ok",
     "timestamp": 1748342312478,
     "user": {
      "displayName": "Sapna Girme",
      "userId": "14803278953583791113"
     },
     "user_tz": -330
    },
    "id": "E5J_pcCaSLUz",
    "outputId": "cf6c1edc-8c91-491c-a80a-8fc609a78387"
   },
   "outputs": [
    {
     "name": "stdout",
     "output_type": "stream",
     "text": [
      "Translated file saved at: /content/Legal_Notice_Rent_English_translated_kn.docx\n"
     ]
    }
   ],
   "source": [
    "input_file = \"/content/Legal_Notice_Rent_English.docx\"\n",
    "lang_code = \"kn\"  # kannada\n",
    "\n",
    "Kannada_file = translate_document(input_file, lang_code)\n",
    "print(f\"Translated file saved at: {Kannada_file}\")"
   ]
  },
  {
   "cell_type": "code",
   "execution_count": null,
   "metadata": {
    "colab": {
     "base_uri": "https://localhost:8080/"
    },
    "executionInfo": {
     "elapsed": 24887,
     "status": "ok",
     "timestamp": 1748342342575,
     "user": {
      "displayName": "Sapna Girme",
      "userId": "14803278953583791113"
     },
     "user_tz": -330
    },
    "id": "MIQr0snZTl4L",
    "outputId": "7aecee4b-dca4-4d2d-a090-a893b612940a"
   },
   "outputs": [
    {
     "name": "stdout",
     "output_type": "stream",
     "text": [
      "\n",
      "✅ BERTScore Evaluation (lang: kn)\n",
      "Average Precision: 0.8735\n",
      "Average Recall:    0.8772\n",
      "Average F1 Score:  0.8752\n"
     ]
    }
   ],
   "source": [
    "original_file = \"/content/Legal_Notice_Rent_English.docx\"\n",
    "translated_file = \"/content/Legal_Notice_Rent_English_translated_kn.docx\"\n",
    "\n",
    "original_text = extract_text_docx(original_file)\n",
    "translated_text = extract_text_docx(translated_file)\n",
    "\n",
    "evaluate_translation(original_text, translated_text, lang_code=\"kn\")"
   ]
  },
  {
   "cell_type": "markdown",
   "metadata": {
    "id": "nNJJ7V0RS2BB"
   },
   "source": [
    "## Malyalam"
   ]
  },
  {
   "cell_type": "code",
   "execution_count": null,
   "metadata": {
    "colab": {
     "base_uri": "https://localhost:8080/"
    },
    "executionInfo": {
     "elapsed": 102762,
     "status": "ok",
     "timestamp": 1748342462433,
     "user": {
      "displayName": "Sapna Girme",
      "userId": "14803278953583791113"
     },
     "user_tz": -330
    },
    "id": "yB6_iLKCSwCj",
    "outputId": "30235162-6709-460c-9362-f7f6d040a320"
   },
   "outputs": [
    {
     "name": "stdout",
     "output_type": "stream",
     "text": [
      "Translated file saved at: /content/Legal_Notice_Rent_English_translated_ml.docx\n"
     ]
    }
   ],
   "source": [
    "input_file = \"/content/Legal_Notice_Rent_English.docx\"\n",
    "lang_code = \"ml\"  # Malyalam\n",
    "\n",
    "Malyalam_file = translate_document(input_file, lang_code)\n",
    "print(f\"Translated file saved at: {Malyalam_file}\")"
   ]
  },
  {
   "cell_type": "code",
   "execution_count": null,
   "metadata": {
    "colab": {
     "base_uri": "https://localhost:8080/"
    },
    "executionInfo": {
     "elapsed": 24485,
     "status": "ok",
     "timestamp": 1748342490756,
     "user": {
      "displayName": "Sapna Girme",
      "userId": "14803278953583791113"
     },
     "user_tz": -330
    },
    "id": "kmqRKYgYTmfw",
    "outputId": "ea797f23-3cc7-41cb-d4a2-ed2bf1b71c01"
   },
   "outputs": [
    {
     "name": "stdout",
     "output_type": "stream",
     "text": [
      "\n",
      "✅ BERTScore Evaluation (lang: ml)\n",
      "Average Precision: 0.8747\n",
      "Average Recall:    0.8854\n",
      "Average F1 Score:  0.8800\n"
     ]
    }
   ],
   "source": [
    "original_file = \"/content/Legal_Notice_Rent_English.docx\"\n",
    "translated_file = \"/content/Legal_Notice_Rent_English_translated_ml.docx\"\n",
    "\n",
    "original_text = extract_text_docx(original_file)\n",
    "translated_text = extract_text_docx(translated_file)\n",
    "\n",
    "evaluate_translation(original_text, translated_text, lang_code=\"ml\")"
   ]
  },
  {
   "cell_type": "markdown",
   "metadata": {
    "id": "7-oqqY1LS-lV"
   },
   "source": [
    "## Telgu"
   ]
  },
  {
   "cell_type": "code",
   "execution_count": null,
   "metadata": {
    "colab": {
     "base_uri": "https://localhost:8080/"
    },
    "executionInfo": {
     "elapsed": 78440,
     "status": "ok",
     "timestamp": 1748342577069,
     "user": {
      "displayName": "Sapna Girme",
      "userId": "14803278953583791113"
     },
     "user_tz": -330
    },
    "id": "TwRU-GcoS4wx",
    "outputId": "1f590f94-5f4f-426d-cd42-97c9be2b3c4b"
   },
   "outputs": [
    {
     "name": "stdout",
     "output_type": "stream",
     "text": [
      "Translated file saved at: /content/Legal_Notice_Rent_English_translated_te.docx\n"
     ]
    }
   ],
   "source": [
    "input_file = \"/content/Legal_Notice_Rent_English.docx\"\n",
    "lang_code = \"te\"  # Telgu\n",
    "\n",
    "Telgu_file = translate_document(input_file, lang_code)\n",
    "print(f\"Translated file saved at: {Telgu_file}\")"
   ]
  },
  {
   "cell_type": "code",
   "execution_count": null,
   "metadata": {
    "colab": {
     "base_uri": "https://localhost:8080/"
    },
    "executionInfo": {
     "elapsed": 30732,
     "status": "ok",
     "timestamp": 1748342611998,
     "user": {
      "displayName": "Sapna Girme",
      "userId": "14803278953583791113"
     },
     "user_tz": -330
    },
    "id": "vsYgrfDETnEu",
    "outputId": "1cbd7cf8-fa67-4cbc-c85f-71ef84c3193b"
   },
   "outputs": [
    {
     "name": "stdout",
     "output_type": "stream",
     "text": [
      "\n",
      "✅ BERTScore Evaluation (lang: te)\n",
      "Average Precision: 0.8762\n",
      "Average Recall:    0.8866\n",
      "Average F1 Score:  0.8814\n"
     ]
    }
   ],
   "source": [
    "original_file = \"/content/Legal_Notice_Rent_English.docx\"\n",
    "translated_file = \"/content/Legal_Notice_Rent_English_translated_te.docx\"\n",
    "\n",
    "original_text = extract_text_docx(original_file)\n",
    "translated_text = extract_text_docx(translated_file)\n",
    "\n",
    "evaluate_translation(original_text, translated_text, lang_code=\"te\")"
   ]
  },
  {
   "cell_type": "markdown",
   "metadata": {
    "id": "ATmgf1ryTPuv"
   },
   "source": [
    "## Gujarati"
   ]
  },
  {
   "cell_type": "code",
   "execution_count": null,
   "metadata": {
    "colab": {
     "base_uri": "https://localhost:8080/"
    },
    "executionInfo": {
     "elapsed": 81556,
     "status": "ok",
     "timestamp": 1748342702733,
     "user": {
      "displayName": "Sapna Girme",
      "userId": "14803278953583791113"
     },
     "user_tz": -330
    },
    "id": "7QW7_RzsTBUh",
    "outputId": "10eede86-7960-4df0-9b3f-f88a1b3e209f"
   },
   "outputs": [
    {
     "name": "stdout",
     "output_type": "stream",
     "text": [
      "Translated file saved at: /content/Legal_Notice_Rent_English_translated_gu.docx\n"
     ]
    }
   ],
   "source": [
    "input_file = \"/content/Legal_Notice_Rent_English.docx\"\n",
    "lang_code = \"gu\"  # Gujarati\n",
    "\n",
    "Gujarati_file = translate_document(input_file, lang_code)\n",
    "print(f\"Translated file saved at: {Gujarati_file}\")"
   ]
  },
  {
   "cell_type": "code",
   "execution_count": null,
   "metadata": {
    "colab": {
     "base_uri": "https://localhost:8080/"
    },
    "executionInfo": {
     "elapsed": 27857,
     "status": "ok",
     "timestamp": 1748342739376,
     "user": {
      "displayName": "Sapna Girme",
      "userId": "14803278953583791113"
     },
     "user_tz": -330
    },
    "id": "9hSAWV7LTnsC",
    "outputId": "8d782c98-3b58-4ca5-cfb6-1a4925d4fa1d"
   },
   "outputs": [
    {
     "name": "stdout",
     "output_type": "stream",
     "text": [
      "\n",
      "✅ BERTScore Evaluation (lang: gu)\n",
      "Average Precision: 0.8845\n",
      "Average Recall:    0.8931\n",
      "Average F1 Score:  0.8887\n"
     ]
    }
   ],
   "source": [
    "original_file = \"/content/Legal_Notice_Rent_English.docx\"\n",
    "translated_file = \"/content/Legal_Notice_Rent_English_translated_gu.docx\"\n",
    "\n",
    "original_text = extract_text_docx(original_file)\n",
    "translated_text = extract_text_docx(translated_file)\n",
    "\n",
    "evaluate_translation(original_text, translated_text, lang_code=\"gu\")"
   ]
  },
  {
   "cell_type": "markdown",
   "metadata": {
    "id": "8aiDgl6ZTS-A"
   },
   "source": [
    "## Punjabi"
   ]
  },
  {
   "cell_type": "code",
   "execution_count": null,
   "metadata": {
    "colab": {
     "base_uri": "https://localhost:8080/"
    },
    "executionInfo": {
     "elapsed": 93205,
     "status": "ok",
     "timestamp": 1748342836161,
     "user": {
      "displayName": "Sapna Girme",
      "userId": "14803278953583791113"
     },
     "user_tz": -330
    },
    "id": "VwyizsnWTBH4",
    "outputId": "21a474aa-ef0d-47e6-e75a-30adf0913f8c"
   },
   "outputs": [
    {
     "name": "stdout",
     "output_type": "stream",
     "text": [
      "Translated file saved at: /content/Legal_Notice_Rent_English_translated_pa.docx\n"
     ]
    }
   ],
   "source": [
    "input_file = \"/content/Legal_Notice_Rent_English.docx\"\n",
    "lang_code = \"pa\"  # Punjabi\n",
    "\n",
    "Punjabi_file = translate_document(input_file, lang_code)\n",
    "print(f\"Translated file saved at: {Punjabi_file}\")"
   ]
  },
  {
   "cell_type": "code",
   "execution_count": null,
   "metadata": {
    "colab": {
     "base_uri": "https://localhost:8080/"
    },
    "executionInfo": {
     "elapsed": 28564,
     "status": "ok",
     "timestamp": 1748342872690,
     "user": {
      "displayName": "Sapna Girme",
      "userId": "14803278953583791113"
     },
     "user_tz": -330
    },
    "id": "Ak6KnIvNTobJ",
    "outputId": "bd797ae3-1838-4c97-c15e-545f9d1bc8ed"
   },
   "outputs": [
    {
     "name": "stdout",
     "output_type": "stream",
     "text": [
      "\n",
      "✅ BERTScore Evaluation (lang: pa)\n",
      "Average Precision: 0.8714\n",
      "Average Recall:    0.8842\n",
      "Average F1 Score:  0.8777\n"
     ]
    }
   ],
   "source": [
    "original_file = \"/content/Legal_Notice_Rent_English.docx\"\n",
    "translated_file = \"/content/Legal_Notice_Rent_English_translated_pa.docx\"\n",
    "\n",
    "original_text = extract_text_docx(original_file)\n",
    "translated_text = extract_text_docx(translated_file)\n",
    "\n",
    "evaluate_translation(original_text, translated_text, lang_code=\"pa\")"
   ]
  },
  {
   "cell_type": "markdown",
   "metadata": {
    "id": "SnW1CjqATbW4"
   },
   "source": [
    "## Tamil"
   ]
  },
  {
   "cell_type": "code",
   "execution_count": null,
   "metadata": {
    "colab": {
     "base_uri": "https://localhost:8080/"
    },
    "executionInfo": {
     "elapsed": 83868,
     "status": "ok",
     "timestamp": 1748342960456,
     "user": {
      "displayName": "Sapna Girme",
      "userId": "14803278953583791113"
     },
     "user_tz": -330
    },
    "id": "Rx7uHLvuTA9q",
    "outputId": "fb0f1ab3-5bae-4f57-ac70-563a1bb431cf"
   },
   "outputs": [
    {
     "name": "stdout",
     "output_type": "stream",
     "text": [
      "Translated file saved at: /content/Legal_Notice_Rent_English_translated_ta.docx\n"
     ]
    }
   ],
   "source": [
    "input_file = \"/content/Legal_Notice_Rent_English.docx\"\n",
    "lang_code = \"ta\"  # Tamil\n",
    "\n",
    "Tamil_file = translate_document(input_file, lang_code)\n",
    "print(f\"Translated file saved at: {Tamil_file}\")"
   ]
  },
  {
   "cell_type": "code",
   "execution_count": null,
   "metadata": {
    "colab": {
     "base_uri": "https://localhost:8080/"
    },
    "executionInfo": {
     "elapsed": 28395,
     "status": "ok",
     "timestamp": 1748343023646,
     "user": {
      "displayName": "Sapna Girme",
      "userId": "14803278953583791113"
     },
     "user_tz": -330
    },
    "id": "7qOEwrkRTpQQ",
    "outputId": "dfa72770-a7ed-49d8-9919-5db088292b67"
   },
   "outputs": [
    {
     "name": "stdout",
     "output_type": "stream",
     "text": [
      "\n",
      "✅ BERTScore Evaluation (lang: ta)\n",
      "Average Precision: 0.8692\n",
      "Average Recall:    0.8838\n",
      "Average F1 Score:  0.8764\n"
     ]
    }
   ],
   "source": [
    "original_file = \"/content/Legal_Notice_Rent_English.docx\"\n",
    "translated_file = \"/content/Legal_Notice_Rent_English_translated_ta.docx\"\n",
    "\n",
    "original_text = extract_text_docx(original_file)\n",
    "translated_text = extract_text_docx(translated_file)\n",
    "\n",
    "evaluate_translation(original_text, translated_text, lang_code=\"ta\")"
   ]
  }
 ],
 "metadata": {
  "accelerator": "GPU",
  "colab": {
   "collapsed_sections": [
    "uxWR3zl7PazB"
   ],
   "gpuType": "T4",
   "provenance": []
  },
  "kernelspec": {
   "display_name": "Python 3",
   "name": "python3"
  },
  "language_info": {
   "name": "python"
  }
 },
 "nbformat": 4,
 "nbformat_minor": 0
}
